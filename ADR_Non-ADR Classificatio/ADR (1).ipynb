{
 "cells": [
  {
   "cell_type": "markdown",
   "metadata": {
    "colab_type": "text",
    "id": "ChrUTcdOni_t"
   },
   "source": [
    "## Problem Statement:\n",
    "\n",
    "\n",
    "Monalisa, who is a Life sciences researcher does Pharmacovigilance (post-market drug safety surveillance) for Pharma Products.<br>\n",
    "Pharmacovigilance identifies ADRs (adverse drug reactions) after a drug’s release. Comprehensive knowledge of ADRs can reduce the detrimental impact on patient’s health system. Practically, clinical trials cannot investigate all settings in which a drug will be used, making it impossible to fully characterize the drug’s adverse effect profile before its approval. Pharmacovigilance methods continuously analyse frequently updated data sources, Twitter in particularly because of its large user base, demographic variability, and publicly available data.<br>\n",
    "ADR detection in social media requires automated methods to process the high data volume. It would greatly help her if she is able to automate the segmentation of Tweet into either ADR or NON- ADR, on the basis of Drug, Symptom and Effect mentioned in future.<br>\n",
    "**Our Job is to Classify the Tweet into the 2 segments:**\n",
    "- ADR\n",
    "- Non-ADR\n",
    "\n",
    "**Data Set:**\n",
    "<br>\n",
    "Attached data set (Data.csv) has tweets labelled as ADR and NON-ADR. The file has information which contains column like user IDs, tweet IDs, and label along with the tweet.\n",
    "<br>\n",
    "Since this is a supervised binary Classification Task based on Text-Data, we will preprocess our Text data and use supervised Classification algorithms to build our Model with accuracy of prediction as our Major Evaluation Parameter.\n",
    "\n"
   ]
  },
  {
   "cell_type": "markdown",
   "metadata": {
    "colab_type": "text",
    "id": "DQbLHylqiC1p"
   },
   "source": [
    "#### Given below is the steps that we will follow in model bulding process:.\n",
    "\n",
    "- **Problem definition and identification**\n",
    "- **Data cleaning, pre-processing, Feature engineering,Exploratory analysis and visualization**\n",
    "- **Designing or picking up correct analytical framework for predictive analyics**\n",
    "- **Using framework picked to produce model and tuning it**\n",
    "- **Execution, testing and Evaluation of our model**\n",
    "- **Feedback**"
   ]
  },
  {
   "cell_type": "markdown",
   "metadata": {
    "colab_type": "text",
    "id": "6gRM6rrCni_x"
   },
   "source": [
    "## Step 1) Importing Packages and Loading Data"
   ]
  },
  {
   "cell_type": "code",
   "execution_count": 1,
   "metadata": {
    "colab": {
     "base_uri": "https://localhost:8080/",
     "height": 204
    },
    "colab_type": "code",
    "id": "nwRTte32ni_0",
    "outputId": "a3de5cd2-fee7-48f9-c824-97d531c0bfe4"
   },
   "outputs": [
    {
     "data": {
      "text/html": [
       "<script type=\"text/javascript\">window.PlotlyConfig = {MathJaxConfig: 'local'};</script><script type=\"text/javascript\">if (window.MathJax) {MathJax.Hub.Config({SVG: {font: \"STIX-Web\"}});}</script><script>requirejs.config({paths: { 'plotly': ['https://cdn.plot.ly/plotly-latest.min']},});if(!window._Plotly) {require(['plotly'],function(plotly) {window._Plotly=plotly;});}</script>"
      ],
      "text/vnd.plotly.v1+html": [
       "<script type=\"text/javascript\">window.PlotlyConfig = {MathJaxConfig: 'local'};</script><script type=\"text/javascript\">if (window.MathJax) {MathJax.Hub.Config({SVG: {font: \"STIX-Web\"}});}</script><script>requirejs.config({paths: { 'plotly': ['https://cdn.plot.ly/plotly-latest.min']},});if(!window._Plotly) {require(['plotly'],function(plotly) {window._Plotly=plotly;});}</script>"
      ]
     },
     "metadata": {},
     "output_type": "display_data"
    },
    {
     "data": {
      "text/html": [
       "<div>\n",
       "<style scoped>\n",
       "    .dataframe tbody tr th:only-of-type {\n",
       "        vertical-align: middle;\n",
       "    }\n",
       "\n",
       "    .dataframe tbody tr th {\n",
       "        vertical-align: top;\n",
       "    }\n",
       "\n",
       "    .dataframe thead th {\n",
       "        text-align: right;\n",
       "    }\n",
       "</style>\n",
       "<table border=\"1\" class=\"dataframe\">\n",
       "  <thead>\n",
       "    <tr style=\"text-align: right;\">\n",
       "      <th></th>\n",
       "      <th>UserId</th>\n",
       "      <th>TweetId</th>\n",
       "      <th>Tweet</th>\n",
       "      <th>ADR_label</th>\n",
       "    </tr>\n",
       "  </thead>\n",
       "  <tbody>\n",
       "    <tr>\n",
       "      <th>0</th>\n",
       "      <td>10030778</td>\n",
       "      <td>413205</td>\n",
       "      <td>Intravenous azithromycin-induced ototoxicity.</td>\n",
       "      <td>1</td>\n",
       "    </tr>\n",
       "    <tr>\n",
       "      <th>1</th>\n",
       "      <td>10048291</td>\n",
       "      <td>528244</td>\n",
       "      <td>Immobilization, while Paget's bone disease was...</td>\n",
       "      <td>1</td>\n",
       "    </tr>\n",
       "    <tr>\n",
       "      <th>2</th>\n",
       "      <td>10048291</td>\n",
       "      <td>361834</td>\n",
       "      <td>Unaccountable severe hypercalcemia in a patien...</td>\n",
       "      <td>1</td>\n",
       "    </tr>\n",
       "    <tr>\n",
       "      <th>3</th>\n",
       "      <td>10082597</td>\n",
       "      <td>292240</td>\n",
       "      <td>METHODS: We report two cases of pseudoporphyri...</td>\n",
       "      <td>1</td>\n",
       "    </tr>\n",
       "    <tr>\n",
       "      <th>4</th>\n",
       "      <td>10082597</td>\n",
       "      <td>467101</td>\n",
       "      <td>METHODS: We report two cases of pseudoporphyri...</td>\n",
       "      <td>1</td>\n",
       "    </tr>\n",
       "  </tbody>\n",
       "</table>\n",
       "</div>"
      ],
      "text/plain": [
       "     UserId  TweetId                                              Tweet  \\\n",
       "0  10030778   413205      Intravenous azithromycin-induced ototoxicity.   \n",
       "1  10048291   528244  Immobilization, while Paget's bone disease was...   \n",
       "2  10048291   361834  Unaccountable severe hypercalcemia in a patien...   \n",
       "3  10082597   292240  METHODS: We report two cases of pseudoporphyri...   \n",
       "4  10082597   467101  METHODS: We report two cases of pseudoporphyri...   \n",
       "\n",
       "   ADR_label  \n",
       "0          1  \n",
       "1          1  \n",
       "2          1  \n",
       "3          1  \n",
       "4          1  "
      ]
     },
     "execution_count": 1,
     "metadata": {},
     "output_type": "execute_result"
    }
   ],
   "source": [
    "import numpy as np\n",
    "import pandas as pd\n",
    "import matplotlib.pyplot as plt\n",
    "import seaborn as sns\n",
    "\n",
    "from plotly import tools\n",
    "import plotly.plotly as py\n",
    "import plotly.figure_factory as ff\n",
    "import plotly.graph_objs as go\n",
    "from plotly.offline import download_plotlyjs, init_notebook_mode, plot, iplot\n",
    "init_notebook_mode(connected=True)\n",
    "import warnings\n",
    "warnings.filterwarnings(\"ignore\")\n",
    "\n",
    "df = pd.read_csv('Data.csv')\n",
    "\n",
    "# Have a grasp of how our data looks.\n",
    "df.head()"
   ]
  },
  {
   "cell_type": "markdown",
   "metadata": {
    "colab_type": "text",
    "id": "SD-FyGEhni_9"
   },
   "source": [
    "## Step 2) Exploring the Data"
   ]
  },
  {
   "cell_type": "code",
   "execution_count": 2,
   "metadata": {
    "colab": {},
    "colab_type": "code",
    "id": "cANp6Oi4dU6n"
   },
   "outputs": [],
   "source": [
    "# from google.colab import files\n",
    "# uploaded = files.upload()\n",
    "import io\n",
    "# df2 = pd.read_csv(io.BytesIO(uploaded['Data.csv']))\n",
    "# df2.head()"
   ]
  },
  {
   "cell_type": "code",
   "execution_count": 3,
   "metadata": {
    "colab": {
     "base_uri": "https://localhost:8080/",
     "height": 297
    },
    "colab_type": "code",
    "id": "8HSyo68Eni__",
    "outputId": "32a69937-3c20-4bd3-baec-ab1f5f62be4c"
   },
   "outputs": [
    {
     "data": {
      "text/html": [
       "<div>\n",
       "<style scoped>\n",
       "    .dataframe tbody tr th:only-of-type {\n",
       "        vertical-align: middle;\n",
       "    }\n",
       "\n",
       "    .dataframe tbody tr th {\n",
       "        vertical-align: top;\n",
       "    }\n",
       "\n",
       "    .dataframe thead th {\n",
       "        text-align: right;\n",
       "    }\n",
       "</style>\n",
       "<table border=\"1\" class=\"dataframe\">\n",
       "  <thead>\n",
       "    <tr style=\"text-align: right;\">\n",
       "      <th></th>\n",
       "      <th>UserId</th>\n",
       "      <th>TweetId</th>\n",
       "      <th>ADR_label</th>\n",
       "    </tr>\n",
       "  </thead>\n",
       "  <tbody>\n",
       "    <tr>\n",
       "      <th>count</th>\n",
       "      <td>2.351600e+04</td>\n",
       "      <td>23516.000000</td>\n",
       "      <td>23516.000000</td>\n",
       "    </tr>\n",
       "    <tr>\n",
       "      <th>mean</th>\n",
       "      <td>1.111427e+07</td>\n",
       "      <td>506575.615538</td>\n",
       "      <td>0.290100</td>\n",
       "    </tr>\n",
       "    <tr>\n",
       "      <th>std</th>\n",
       "      <td>5.544573e+06</td>\n",
       "      <td>286621.435825</td>\n",
       "      <td>0.453818</td>\n",
       "    </tr>\n",
       "    <tr>\n",
       "      <th>min</th>\n",
       "      <td>1.879500e+04</td>\n",
       "      <td>10029.000000</td>\n",
       "      <td>0.000000</td>\n",
       "    </tr>\n",
       "    <tr>\n",
       "      <th>25%</th>\n",
       "      <td>7.743588e+06</td>\n",
       "      <td>258683.000000</td>\n",
       "      <td>0.000000</td>\n",
       "    </tr>\n",
       "    <tr>\n",
       "      <th>50%</th>\n",
       "      <td>1.121584e+07</td>\n",
       "      <td>509308.500000</td>\n",
       "      <td>0.000000</td>\n",
       "    </tr>\n",
       "    <tr>\n",
       "      <th>75%</th>\n",
       "      <td>1.601816e+07</td>\n",
       "      <td>755094.000000</td>\n",
       "      <td>1.000000</td>\n",
       "    </tr>\n",
       "    <tr>\n",
       "      <th>max</th>\n",
       "      <td>2.046562e+07</td>\n",
       "      <td>999864.000000</td>\n",
       "      <td>1.000000</td>\n",
       "    </tr>\n",
       "  </tbody>\n",
       "</table>\n",
       "</div>"
      ],
      "text/plain": [
       "             UserId        TweetId     ADR_label\n",
       "count  2.351600e+04   23516.000000  23516.000000\n",
       "mean   1.111427e+07  506575.615538      0.290100\n",
       "std    5.544573e+06  286621.435825      0.453818\n",
       "min    1.879500e+04   10029.000000      0.000000\n",
       "25%    7.743588e+06  258683.000000      0.000000\n",
       "50%    1.121584e+07  509308.500000      0.000000\n",
       "75%    1.601816e+07  755094.000000      1.000000\n",
       "max    2.046562e+07  999864.000000      1.000000"
      ]
     },
     "execution_count": 3,
     "metadata": {},
     "output_type": "execute_result"
    }
   ],
   "source": [
    "df.describe()"
   ]
  },
  {
   "cell_type": "code",
   "execution_count": 4,
   "metadata": {
    "colab": {
     "base_uri": "https://localhost:8080/",
     "height": 170
    },
    "colab_type": "code",
    "id": "nDCtJz5rnjAQ",
    "outputId": "61b7e104-f823-4f0f-ebf4-308bd624738a"
   },
   "outputs": [
    {
     "name": "stdout",
     "output_type": "stream",
     "text": [
      "<class 'pandas.core.frame.DataFrame'>\n",
      "RangeIndex: 23516 entries, 0 to 23515\n",
      "Data columns (total 4 columns):\n",
      "UserId       23516 non-null int64\n",
      "TweetId      23516 non-null int64\n",
      "Tweet        23516 non-null object\n",
      "ADR_label    23516 non-null int64\n",
      "dtypes: int64(3), object(1)\n",
      "memory usage: 735.0+ KB\n"
     ]
    }
   ],
   "source": [
    "# No missing values.\n",
    "df.info()"
   ]
  },
  {
   "cell_type": "code",
   "execution_count": 5,
   "metadata": {
    "colab": {
     "base_uri": "https://localhost:8080/",
     "height": 34
    },
    "colab_type": "code",
    "id": "xrSdbkLOnjAb",
    "outputId": "04930b4f-cb20-4143-f262-886395d2513f"
   },
   "outputs": [
    {
     "data": {
      "text/plain": [
       "0"
      ]
     },
     "execution_count": 5,
     "metadata": {},
     "output_type": "execute_result"
    }
   ],
   "source": [
    "# No Duplicates available\n",
    "df.drop('UserId', axis=1).duplicated().sum()"
   ]
  },
  {
   "cell_type": "code",
   "execution_count": 6,
   "metadata": {
    "colab": {
     "base_uri": "https://localhost:8080/",
     "height": 102
    },
    "colab_type": "code",
    "id": "hVSo2jcnnjAm",
    "outputId": "bb8543b8-2286-4c96-a426-bd3cede3952d"
   },
   "outputs": [
    {
     "data": {
      "text/plain": [
       "UserId       0\n",
       "TweetId      0\n",
       "Tweet        0\n",
       "ADR_label    0\n",
       "dtype: int64"
      ]
     },
     "execution_count": 6,
     "metadata": {},
     "output_type": "execute_result"
    }
   ],
   "source": [
    "# Checking for Null Valuesb\n",
    "df.isnull().sum()"
   ]
  },
  {
   "cell_type": "code",
   "execution_count": 7,
   "metadata": {
    "colab": {
     "base_uri": "https://localhost:8080/",
     "height": 68
    },
    "colab_type": "code",
    "id": "bx0o2qh4e9Iu",
    "outputId": "03d3f1d5-f932-449e-b829-329aab4c6fcd"
   },
   "outputs": [
    {
     "data": {
      "text/plain": [
       "0    16694\n",
       "1     6822\n",
       "Name: ADR_label, dtype: int64"
      ]
     },
     "execution_count": 7,
     "metadata": {},
     "output_type": "execute_result"
    }
   ],
   "source": [
    "df.ADR_label.value_counts()"
   ]
  },
  {
   "cell_type": "markdown",
   "metadata": {
    "colab_type": "text",
    "id": "ifxMom3OlTNB"
   },
   "source": [
    "### Let's Plot the ADR vs Non_ADR counts in our Dataset"
   ]
  },
  {
   "cell_type": "code",
   "execution_count": 8,
   "metadata": {
    "colab": {
     "base_uri": "https://localhost:8080/",
     "height": 555
    },
    "colab_type": "code",
    "id": "a436iewanjAw",
    "outputId": "c2d9ff85-95b5-46d4-b608-e5bfb5ba4635"
   },
   "outputs": [
    {
     "data": {
      "image/png": "[encoded data removed]",
      "text/plain": [
       "<matplotlib.figure.Figure at 0x1a1b40c128>"
      ]
     },
     "metadata": {},
     "output_type": "display_data"
    }
   ],
   "source": [
    "f,ax = plt.subplots(1,2,figsize=(16,8))\n",
    "\n",
    "colors = [\"#FA5858\", \"#64FE2E\"]\n",
    "labels = 'Non-ADR','ADR'\n",
    "plt.suptitle('Information on ADR vs NON-ADR labels')\n",
    "df['ADR_label'].value_counts().plot.pie(explode=[0,0.05], autopct='%1.2f%%', ax =ax[0], shadow = True,\n",
    "                                    colors = colors, labels = labels, fontsize =12, startangle=25)\n",
    "ax[0].set_ylabel('% of ADR vs Non-ADR')\n",
    "\n",
    "palette = [\"#64FE2E\", \"#FA5858\"]\n",
    "sns.countplot(x='ADR_label', data=df)\n",
    "ax[1].set_xticklabels(['Non-ADR','ADR'],rotation=0, rotation_mode=\"anchor\")\n",
    "plt.show()"
   ]
  },
  {
   "cell_type": "markdown",
   "metadata": {
    "colab_type": "text",
    "id": "m8VZlbkQnjA7"
   },
   "source": [
    "**As we can see from the pie-plot, around 29% of our tweets fall into ADR Category, while 71% into Non-ADR category**<br>\n",
    "We will use this fact to Adjust our Model Weights while fine tuning the Model Parameters\n"
   ]
  },
  {
   "cell_type": "markdown",
   "metadata": {
    "colab_type": "text",
    "id": "EBAz4gg5njA9"
   },
   "source": [
    "## Step 3) Preparing the Data for Modeling \n",
    "- **Splitting Our data in Training and Testing set**\n",
    "- **Seperating Labels from Predictors**\n",
    "- ** Feature Engineering on Predictor Columns**"
   ]
  },
  {
   "cell_type": "code",
   "execution_count": 9,
   "metadata": {
    "colab": {},
    "colab_type": "code",
    "id": "mI6iYc_LnjBC"
   },
   "outputs": [],
   "source": [
    "# Importing the necessary modules\n",
    "from sklearn.feature_extraction.text import CountVectorizer\n",
    "from sklearn.model_selection import train_test_split\n",
    "\n",
    "# Seperating predictors from outcome label \n",
    "y = df['ADR_label']\n",
    "X = df.drop(['ADR_label'], axis =1)\n",
    "\n",
    "#Converting all Tweets to lower-case\n",
    "X['Tweet']=X['Tweet'].str.lower()\n",
    "\n",
    "# Create training and test sets\n",
    "X_train, X_test, y_train, y_test = train_test_split(\n",
    "                                             X, y, \n",
    "                                             test_size=0.30, \n",
    "                                             random_state=53)"
   ]
  },
  {
   "cell_type": "markdown",
   "metadata": {
    "colab_type": "text",
    "id": "LygtxCfHmLgL"
   },
   "source": [
    "## Feature Engineering\n",
    "**In language processing, the vectors x are derived from textual data, in order to reflect various linguistic properties of the text**<br>\n",
    "In this section, We'll use pandas alongside scikit-learn to create a sparse text vectorizer that we can use to train and test any supervised model but before that let's understand lemmatization process."
   ]
  },
  {
   "cell_type": "markdown",
   "metadata": {
    "colab_type": "text",
    "id": "9sIxaouJoQhO"
   },
   "source": [
    "## Text - Preprocessing\n",
    "We need to reduce inflectional forms of words in our Tweet such that we convert derivationally related forms of a word to a common base form. For instance:<br>\n",
    "car, cars, car's, cars' = car.<br>\n",
    "For this purpose, we have two methods, Stemming and Lemmatization.\n",
    "Let's understand the difference and than pick the appropraite method of our Text pre-processing.\n",
    "- **Stemming** algorithms work by cutting off the end or the beginning of the word, taking into account a list of common prefixes and suffixes that can be found in an inflected word. This indiscriminate cutting can be successful in some occasions, but not always, and that is why we affirm that this approach presents some limitations.\n",
    "- **Lemmatization**, on the other hand, takes into consideration the morphological analysis of the words. To do so, it is necessary to have detailed dictionaries which the algorithm can look through to link the form back to its lemma. <br><br>\n",
    "**As a conclusion, we can say developing a stemmer is far simpler than building a lemmatizer. In the latter, deep linguistics knowledge is required to create the dictionaries that allow the algorithm to look for the proper form of the word. Once this is done, the noise will be reduced and the results provided on the information retrieval process will be more accurate.**<br>\n",
    "So, we will proceed with lemmatization using WordNet corpus of NLTK"
   ]
  },
  {
   "cell_type": "code",
   "execution_count": 10,
   "metadata": {
    "colab": {
     "base_uri": "https://localhost:8080/",
     "height": 68
    },
    "colab_type": "code",
    "id": "aYx1MJRfmxCw",
    "outputId": "ef2a3044-ba97-4829-dd63-c8b638ccc755"
   },
   "outputs": [],
   "source": [
    "#nltk.download('wordnet')"
   ]
  },
  {
   "cell_type": "code",
   "execution_count": 11,
   "metadata": {
    "colab": {},
    "colab_type": "code",
    "id": "TXE8i6AMoDIV"
   },
   "outputs": [],
   "source": [
    "# Importing NLTK and initializing the Lemmatizer and tokenizer\n",
    "import nltk\n",
    "\n",
    "w_tokenizer = nltk.tokenize.WhitespaceTokenizer()\n",
    "lemmatizer = nltk.stem.WordNetLemmatizer()\n",
    "\n"
   ]
  },
  {
   "cell_type": "code",
   "execution_count": 12,
   "metadata": {
    "colab": {},
    "colab_type": "code",
    "id": "Wmu2Arm0rkjW"
   },
   "outputs": [],
   "source": [
    "# function to lemmatize each row of Tweet column\n",
    "def lemmatize_text(text):\n",
    "  return ' '.join(lemmatizer.lemmatize(w) for w in w_tokenizer.tokenize(text))"
   ]
  },
  {
   "cell_type": "code",
   "execution_count": 13,
   "metadata": {
    "colab": {
     "base_uri": "https://localhost:8080/",
     "height": 204
    },
    "colab_type": "code",
    "id": "DciylcDbrZA3",
    "outputId": "0899dc62-1d4f-4ab6-a5c7-73b56bcd406b"
   },
   "outputs": [
    {
     "data": {
      "text/html": [
       "<div>\n",
       "<style scoped>\n",
       "    .dataframe tbody tr th:only-of-type {\n",
       "        vertical-align: middle;\n",
       "    }\n",
       "\n",
       "    .dataframe tbody tr th {\n",
       "        vertical-align: top;\n",
       "    }\n",
       "\n",
       "    .dataframe thead th {\n",
       "        text-align: right;\n",
       "    }\n",
       "</style>\n",
       "<table border=\"1\" class=\"dataframe\">\n",
       "  <thead>\n",
       "    <tr style=\"text-align: right;\">\n",
       "      <th></th>\n",
       "      <th>UserId</th>\n",
       "      <th>TweetId</th>\n",
       "      <th>Tweet</th>\n",
       "      <th>Tweet_l</th>\n",
       "    </tr>\n",
       "  </thead>\n",
       "  <tbody>\n",
       "    <tr>\n",
       "      <th>17579</th>\n",
       "      <td>20234160</td>\n",
       "      <td>592898</td>\n",
       "      <td>although this patient had been exposed to seve...</td>\n",
       "      <td>although this patient had been exposed to seve...</td>\n",
       "    </tr>\n",
       "    <tr>\n",
       "      <th>5305</th>\n",
       "      <td>7428724</td>\n",
       "      <td>263401</td>\n",
       "      <td>four cases of oesophageal damage associated wi...</td>\n",
       "      <td>four case of oesophageal damage associated wit...</td>\n",
       "    </tr>\n",
       "    <tr>\n",
       "      <th>8355</th>\n",
       "      <td>1469187</td>\n",
       "      <td>609107</td>\n",
       "      <td>we report the displacement of a tunnelled intr...</td>\n",
       "      <td>we report the displacement of a tunnelled intr...</td>\n",
       "    </tr>\n",
       "    <tr>\n",
       "      <th>18545</th>\n",
       "      <td>623061</td>\n",
       "      <td>724009</td>\n",
       "      <td>this translocation determines a fusion gene, b...</td>\n",
       "      <td>this translocation determines a fusion gene, b...</td>\n",
       "    </tr>\n",
       "    <tr>\n",
       "      <th>10250</th>\n",
       "      <td>18795</td>\n",
       "      <td>844053</td>\n",
       "      <td>clinical and biochemical abnormalities disappe...</td>\n",
       "      <td>clinical and biochemical abnormality disappear...</td>\n",
       "    </tr>\n",
       "  </tbody>\n",
       "</table>\n",
       "</div>"
      ],
      "text/plain": [
       "         UserId  TweetId                                              Tweet  \\\n",
       "17579  20234160   592898  although this patient had been exposed to seve...   \n",
       "5305    7428724   263401  four cases of oesophageal damage associated wi...   \n",
       "8355    1469187   609107  we report the displacement of a tunnelled intr...   \n",
       "18545    623061   724009  this translocation determines a fusion gene, b...   \n",
       "10250     18795   844053  clinical and biochemical abnormalities disappe...   \n",
       "\n",
       "                                                 Tweet_l  \n",
       "17579  although this patient had been exposed to seve...  \n",
       "5305   four case of oesophageal damage associated wit...  \n",
       "8355   we report the displacement of a tunnelled intr...  \n",
       "18545  this translocation determines a fusion gene, b...  \n",
       "10250  clinical and biochemical abnormality disappear...  "
      ]
     },
     "execution_count": 13,
     "metadata": {},
     "output_type": "execute_result"
    }
   ],
   "source": [
    "X_train['Tweet_l'] = X_train.Tweet.apply(lemmatize_text)\n",
    "X_test['Tweet_l'] = X_test.Tweet.apply(lemmatize_text)\n",
    "X_test.head()"
   ]
  },
  {
   "cell_type": "markdown",
   "metadata": {
    "colab_type": "text",
    "id": "NSySOyuEmETh"
   },
   "source": [
    "#### Extracting Features from Tweet-Text using sci-kit learn to build Bag-of-Word Vectors.\n",
    "\n",
    "A bag-of-words is a representation of text that describes the occurrence of words within a document. It involves two things:\n",
    "\n",
    "- A vocabulary of known words.\n",
    "- A measure of the presence of known words.\n",
    "\n",
    "The CountVectorizer provides a simple way to both tokenize a collection of text documents and build a vocabulary of known words, but also to encode new documents using that vocabulary.<br>\n",
    "It also takes care of ignoring the punctuations and lowercasing each term.\n",
    "\n",
    "(Note: Document here represents Tweets)\n"
   ]
  },
  {
   "cell_type": "markdown",
   "metadata": {
    "colab_type": "text",
    "id": "4fzKeS9FnTX2"
   },
   "source": [
    "We will use CountVectorizer to learn the vocabulary of a set of texts and then transform them into a dataframe that can be used for building models. I wanted to follow up on that with a few simple ways to make that dataframe more suitable for prediction.\n",
    "\n",
    "CountVectorizer has a few important parameters we should know.\n",
    "\n",
    "- stop_words: Since CountVectorizer just counts the occurrences of each word in its vocabulary, extremely common words like ‘the’, ‘and’, etc. will become very important features while they add little meaning to the text. Your model can often be improved if you don’t take those words into account. Stop words are just a list of words you don’t want to use as features. You can set the parameter stop_words=’english’ to use a built-in list. Alternatively you can set stop_words equal to some custom list. This parameter defaults to None.\n",
    "- ngram_range: An n-gram is just a string of n words in a row. E.g. the sentence ‘I am Groot’ contains the 2-grams ‘I am’ and ‘am Groot’. The sentence is itself a 3-gram. Set the parameter ngram_range=(a,b) where a is the minimum and b is the maximum size of ngrams you want to include in your features. The default ngram_range is (1,1).\n",
    "In a recent project where I usually find that including 2-grams as features boosts my model’s predictive power significantly. This makes intuitive sense; many job titles such as ‘data scientist’, ‘data engineer’, and ‘data analyst’ are 2 words long.\n",
    "- min_df, max_df: These are the minimum and maximum document frequencies words/n-grams must have to be used as features. If either of these parameters are set to integers, they will be used as bounds on the number of documents each feature must be in to be considered as a feature. If either is set to a float, that number will be interpreted as a frequency rather than a numerical limit. min_df defaults to 1 (int) and - max_df defaults to 1.0 (float).\n",
    "- max_features: This parameter is pretty self-explanatory. The CountVectorizer will choose the words/features that occur most frequently to be in its’ vocabulary and drop everything else."
   ]
  },
  {
   "cell_type": "code",
   "execution_count": 14,
   "metadata": {
    "colab": {
     "base_uri": "https://localhost:8080/",
     "height": 34
    },
    "colab_type": "code",
    "id": "v5k6lxebnjBL",
    "outputId": "f70969cf-b283-4c9d-c821-7c053f4750e3"
   },
   "outputs": [
    {
     "name": "stdout",
     "output_type": "stream",
     "text": [
      "['00', '00 12', '00 50', '00 91', '00 discontinued', '000', '000 000', '000 12', '000 200', '000 amylase']\n"
     ]
    }
   ],
   "source": [
    "# Initialize a CountVectorizer object: count_vectorizer\n",
    "count_vectorizer = CountVectorizer(stop_words='english', ngram_range=(1,2))\n",
    "\n",
    "# fitting and Transform the training data using only the 'text' column values: count_train \n",
    "count_train = count_vectorizer.fit_transform(X_train.Tweet.values)\n",
    "\n",
    "# Transforming the test data using only the 'text' column values: count_test \n",
    "count_test = count_vectorizer.transform(X_test.Tweet.values)\n",
    "\n",
    "# Print the first 10 features of the count_vectorizer\n",
    "print(count_vectorizer.get_feature_names()[:10])"
   ]
  },
  {
   "cell_type": "markdown",
   "metadata": {
    "colab_type": "text",
    "id": "mKn8-hnY1TCA"
   },
   "source": [
    "One issue with  countVectorizer is that some words will appear many times and their large counts will not be very meaningful in the encoded vectors."
   ]
  },
  {
   "cell_type": "markdown",
   "metadata": {
    "colab_type": "text",
    "id": "nDPbWMsT1L0A"
   },
   "source": [
    "An alternative is to calculate word frequencies, and by far the most popular method is called TF-IDF. This is an acronym than stands for “Term Frequency – Inverse Document” Frequency which are the components of the resulting scores assigned to each word.\n",
    "\n",
    "- TF: Term Frequency, which measures how frequently a term occurs in a document. Since every document is different in length, it is possible that a term would appear much more times in long documents than shorter ones. Thus, the term frequency is often divided by the document length (aka. the total number of terms in the document) as a way of normalization: \n",
    "\n",
    "TF(t) = (Number of times term t appears in a document) / (Total number of terms in the document).\n",
    "\n",
    "- IDF: Inverse Document Frequency, which measures how important a term is. While computing TF, all terms are considered equally important. However it is known that certain terms, such as \"is\", \"of\", and \"that\", may appear a lot of times but have little importance. Thus we need to weigh down the frequent terms while scale up the rare ones, by computing the following: \n",
    "\n",
    "IDF(t) = log_e(Total number of documents / Number of documents with term t in it).<br>\n",
    "<br>\n",
    "**w(i) = TF(i) * IDF(i)**\n",
    "\n",
    "**This downscales words that appear a lot across documents.**\n"
   ]
  },
  {
   "cell_type": "markdown",
   "metadata": {
    "colab_type": "text",
    "id": "lPVj0M5BnjBX"
   },
   "source": [
    "Similar to the sparse CountVectorizer created in the previous section, we'll work on creating tf-idf vectors for Tweet-Texts. We'll set up a TfidfVectorizer"
   ]
  },
  {
   "cell_type": "code",
   "execution_count": 15,
   "metadata": {
    "colab": {
     "base_uri": "https://localhost:8080/",
     "height": 119
    },
    "colab_type": "code",
    "id": "n1OOt51cnjBZ",
    "outputId": "aabd60f7-5346-44c6-baf3-f3060f28d053"
   },
   "outputs": [
    {
     "name": "stdout",
     "output_type": "stream",
     "text": [
      "['00', '000', '00001', '0001', '00025', '001', '002', '004', '005', '008']\n",
      "[[0. 0. 0. ... 0. 0. 0.]\n",
      " [0. 0. 0. ... 0. 0. 0.]\n",
      " [0. 0. 0. ... 0. 0. 0.]\n",
      " [0. 0. 0. ... 0. 0. 0.]\n",
      " [0. 0. 0. ... 0. 0. 0.]]\n"
     ]
    }
   ],
   "source": [
    "# Importing TfidfVectorizer\n",
    "from sklearn.feature_extraction.text import TfidfVectorizer\n",
    "\n",
    "# Initializing a TfidfVectorizer object: tfidf_vectorizer\n",
    "tfidf_vectorizer = TfidfVectorizer(stop_words='english',max_df=0.7)\n",
    "\n",
    "# Transforming the training data: tfidf_train \n",
    "tfidf_train = tfidf_vectorizer.fit_transform(X_train.Tweet.values)\n",
    "\n",
    "# Transforming the test data: tfidf_test \n",
    "tfidf_test = tfidf_vectorizer.transform(X_test.Tweet.values)\n",
    "\n",
    "# Printing the first 10 features\n",
    "print(tfidf_vectorizer.get_feature_names()[:10])\n",
    "\n",
    "# Printing the first 5 vectors of the tfidf training data\n",
    "print(tfidf_train.A[:5])"
   ]
  },
  {
   "cell_type": "code",
   "execution_count": 16,
   "metadata": {
    "colab": {
     "base_uri": "https://localhost:8080/",
     "height": 232
    },
    "colab_type": "code",
    "id": "S5_Gi4EinjCR",
    "outputId": "f1ac1f93-6153-40b0-dca8-a1a5a9ef62e4"
   },
   "outputs": [
    {
     "name": "stdout",
     "output_type": "stream",
     "text": [
      "   00  00 12  00 50  00 91  00 discontinued  000  000 000  000 12  000 200  \\\n",
      "0   0      0      0      0                0    0        0       0        0   \n",
      "1   0      0      0      0                0    0        0       0        0   \n",
      "2   0      0      0      0                0    0        0       0        0   \n",
      "3   0      0      0      0                0    0        0       0        0   \n",
      "4   0      0      0      0                0    0        0       0        0   \n",
      "\n",
      "   000 amylase        ...         zygomycetes rarely  zygomycosis  \\\n",
      "0            0        ...                          0            0   \n",
      "1            0        ...                          0            0   \n",
      "2            0        ...                          0            0   \n",
      "3            0        ...                          0            0   \n",
      "4            0        ...                          0            0   \n",
      "\n",
      "   zygomycosis 13  zygomycosis caused  zygomycosis days  \\\n",
      "0               0                   0                 0   \n",
      "1               0                   0                 0   \n",
      "2               0                   0                 0   \n",
      "3               0                   0                 0   \n",
      "4               0                   0                 0   \n",
      "\n",
      "   zygomycosis secondary  zygomycosis surgical  zygomycosis usually  zyprexa  \\\n",
      "0                      0                     0                    0        0   \n",
      "1                      0                     0                    0        0   \n",
      "2                      0                     0                    0        0   \n",
      "3                      0                     0                    0        0   \n",
      "4                      0                     0                    0        0   \n",
      "\n",
      "   zyprexa reported  \n",
      "0                 0  \n",
      "1                 0  \n",
      "2                 0  \n",
      "3                 0  \n",
      "4                 0  \n",
      "\n",
      "[5 rows x 119893 columns]\n",
      "    00  000  00001  0001  00025  001  002  004  005  008   ...     zomepirac  \\\n",
      "0  0.0  0.0    0.0   0.0    0.0  0.0  0.0  0.0  0.0  0.0   ...           0.0   \n",
      "1  0.0  0.0    0.0   0.0    0.0  0.0  0.0  0.0  0.0  0.0   ...           0.0   \n",
      "2  0.0  0.0    0.0   0.0    0.0  0.0  0.0  0.0  0.0  0.0   ...           0.0   \n",
      "3  0.0  0.0    0.0   0.0    0.0  0.0  0.0  0.0  0.0  0.0   ...           0.0   \n",
      "4  0.0  0.0    0.0   0.0    0.0  0.0  0.0  0.0  0.0  0.0   ...           0.0   \n",
      "\n",
      "   zone  zonisamide  zoster  zuclopenthixol  zurich  zygomycete  zygomycetes  \\\n",
      "0   0.0         0.0     0.0             0.0     0.0         0.0          0.0   \n",
      "1   0.0         0.0     0.0             0.0     0.0         0.0          0.0   \n",
      "2   0.0         0.0     0.0             0.0     0.0         0.0          0.0   \n",
      "3   0.0         0.0     0.0             0.0     0.0         0.0          0.0   \n",
      "4   0.0         0.0     0.0             0.0     0.0         0.0          0.0   \n",
      "\n",
      "   zygomycosis  zyprexa  \n",
      "0          0.0      0.0  \n",
      "1          0.0      0.0  \n",
      "2          0.0      0.0  \n",
      "3          0.0      0.0  \n",
      "4          0.0      0.0  \n",
      "\n",
      "[5 rows x 15046 columns]\n"
     ]
    }
   ],
   "source": [
    "# Creating the CountVectorizer DataFrame: count_df\n",
    "count_df = pd.DataFrame(count_train.A, columns=count_vectorizer.get_feature_names())\n",
    "\n",
    "# Creating the TfidfVectorizer DataFrame: tfidf_df\n",
    "tfidf_df = pd.DataFrame(tfidf_train.A, columns=tfidf_vectorizer.get_feature_names())\n",
    "\n",
    "# Printing the head of count_df\n",
    "print(count_df.head())\n",
    "\n",
    "# Printing the head of tfidf_df\n",
    "print(tfidf_df.head())\n"
   ]
  },
  {
   "cell_type": "markdown",
   "metadata": {
    "colab_type": "text",
    "id": "LLC6UYsMnjCd"
   },
   "source": [
    "## Step 4) Modeling - process: picking the correct class of Algorithm\n",
    "### Let's Create A baseline model for Benchmarking: Naive Bayes with scikit-learn\n",
    "We are going to use Naive Bayes Class of model to build our Base/Vanilla Model since it is the most reasonable model to use when training a new supervised model using text vector data due to it's basis in Probability Theory"
   ]
  },
  {
   "cell_type": "code",
   "execution_count": 17,
   "metadata": {
    "colab": {
     "base_uri": "https://localhost:8080/",
     "height": 68
    },
    "colab_type": "code",
    "id": "r9EMmKA7njCh",
    "outputId": "5f40bd05-3b59-4e77-bf45-67290804180b"
   },
   "outputs": [
    {
     "name": "stdout",
     "output_type": "stream",
     "text": [
      "0.8752657689581856\n",
      "[[4509  483]\n",
      " [ 397 1666]]\n"
     ]
    }
   ],
   "source": [
    "# Importing the necessary modules\n",
    "from sklearn.naive_bayes import MultinomialNB\n",
    "from sklearn import metrics\n",
    "from sklearn.metrics import roc_auc_score\n",
    "\n",
    "# Instantiating a Multinomial Naive Bayes classifier: nb_classifier\n",
    "nb_classifier = MultinomialNB()\n",
    "\n",
    "# Fitting the classifier to the training data\n",
    "nb_classifier.fit(count_train, y_train)\n",
    "\n",
    "# Creating the predicted tags: pred\n",
    "pred = nb_classifier.predict(count_test)\n",
    "\n",
    "# Calculating the accuracy score: score\n",
    "score =metrics.accuracy_score(y_test, pred)\n",
    "print(score)\n",
    "\n",
    "# Calculating the confusion matrix: cm\n",
    "cm = metrics.confusion_matrix(y_test,pred)\n",
    "print(cm)"
   ]
  },
  {
   "cell_type": "code",
   "execution_count": 18,
   "metadata": {
    "colab": {
     "base_uri": "https://localhost:8080/",
     "height": 232
    },
    "colab_type": "code",
    "id": "sVUi2OCznjCt",
    "outputId": "ebabd040-4c21-4efc-86f5-e98630583b5a"
   },
   "outputs": [
    {
     "name": "stdout",
     "output_type": "stream",
     "text": [
      "0.8372785258681786\n",
      "[[4857  135]\n",
      " [1013 1050]]\n"
     ]
    }
   ],
   "source": [
    "# Creating a Multinomial Naive Bayes classifier: nb_classifier\n",
    "nb_classifier = MultinomialNB()\n",
    "\n",
    "# Fitting the classifier to the training data\n",
    "nb_classifier.fit(tfidf_train, y_train)\n",
    "\n",
    "# Creating the predicted tags: pred\n",
    "pred = nb_classifier.predict(tfidf_test)\n",
    "\n",
    "# Calculating the accuracy score: score\n",
    "score = metrics.accuracy_score(y_test, pred)\n",
    "print(score)\n",
    "\n",
    "# Calculating the confusion matrix: cm\n",
    "cm = metrics.confusion_matrix(y_test, pred )\n",
    "print(cm)"
   ]
  },
  {
   "cell_type": "code",
   "execution_count": 19,
   "metadata": {
    "colab": {},
    "colab_type": "code",
    "id": "fDiPbUxFnjC7"
   },
   "outputs": [
    {
     "name": "stdout",
     "output_type": "stream",
     "text": [
      "0 [(-10.34584364622171, '00'), (-10.34584364622171, '0001'), (-10.34584364622171, '00025'), (-10.34584364622171, '001'), (-10.34584364622171, '002'), (-10.34584364622171, '004'), (-10.34584364622171, '005'), (-10.34584364622171, '008'), (-10.34584364622171, '0096'), (-10.34584364622171, '0099'), (-10.34584364622171, '015'), (-10.34584364622171, '025'), (-10.34584364622171, '030'), (-10.34584364622171, '035'), (-10.34584364622171, '038'), (-10.34584364622171, '04'), (-10.34584364622171, '042'), (-10.34584364622171, '04547'), (-10.34584364622171, '0457'), (-10.34584364622171, '06')]\n",
      "\n",
      "\n",
      "1 [(-6.484178542837793, 'use'), (-6.373061952329657, 'toxicity'), (-6.3275731225863785, 'treated'), (-6.315227587570821, 'administration'), (-6.297858642322655, 'renal'), (-6.235214296915347, 'following'), (-6.155362478851178, 'severe'), (-6.115259506562248, 'old'), (-6.115127557602337, 'year'), (-6.022098302367902, 'syndrome'), (-5.951344188539078, 'acute'), (-5.935984906430272, 'patients'), (-5.867860021146208, 'treatment'), (-5.73750031763786, 'therapy'), (-5.640608551090925, 'report'), (-5.635254592443098, 'associated'), (-5.6187408393219975, 'developed'), (-5.599950633093063, 'patient'), (-5.594450715377736, 'case'), (-5.353516723533465, 'induced')]\n"
     ]
    }
   ],
   "source": [
    "# Get the class labels: class_labels\n",
    "class_labels = nb_classifier.classes_\n",
    "\n",
    "# Extract the features: feature_names\n",
    "feature_names = tfidf_vectorizer.get_feature_names()\n",
    "\n",
    "# Zip the feature names together with the coefficient array and sort by weights: feat_with_weights\n",
    "feat_with_weights = sorted(zip(nb_classifier.coef_[0],feature_names))\n",
    "\n",
    "# Print the first class label and the top 20 feat_with_weights entries\n",
    "print(class_labels[0], feat_with_weights[:20])\n",
    "print('\\n')\n",
    "# Print the second class label and the bottom 20 feat_with_weights entries\n",
    "print(class_labels[1], feat_with_weights[-20:])"
   ]
  },
  {
   "cell_type": "markdown",
   "metadata": {
    "colab_type": "text",
    "id": "xZ61eZQY2jL5"
   },
   "source": [
    "**For Modeling Our Dataset, we will go ahead with CountVectorizer Features, since the words that appear many time in our Tweet, for example `mg` are important for prediction and we don't want them to be DownScaled**<br>\n",
    "This is Evident from the accuracy score of our prediction on Test Data"
   ]
  },
  {
   "cell_type": "markdown",
   "metadata": {
    "colab_type": "text",
    "id": "yoF9I3DnnjDH"
   },
   "source": [
    "### Let's Try Logistic Regression Classifier on Count Vectors"
   ]
  },
  {
   "cell_type": "code",
   "execution_count": null,
   "metadata": {
    "colab": {
     "base_uri": "https://localhost:8080/",
     "height": 34
    },
    "colab_type": "code",
    "id": "uZbAK8-InjDM",
    "outputId": "b7ffc42c-574e-4c61-f389-056f9a71599e"
   },
   "outputs": [
    {
     "name": "stdout",
     "output_type": "stream",
     "text": [
      "0.9020552799433026\n"
     ]
    }
   ],
   "source": [
    "from sklearn.metrics import accuracy_score\n",
    "from sklearn.linear_model import LogisticRegression\n",
    "baselog_model = LogisticRegression()\n",
    "baselog_model.fit(count_train,y_train)\n",
    "y_pred = baselog_model.predict(count_test)\n",
    "print(accuracy_score(y_pred,y_test))"
   ]
  },
  {
   "cell_type": "markdown",
   "metadata": {
    "colab_type": "text",
    "id": "ftv4XZiLvx_6"
   },
   "source": [
    "**As we can see logistics Regression clear outperformed NBClassifier, let's try some more classes of algos before creating the final Model and tuning it **"
   ]
  },
  {
   "cell_type": "markdown",
   "metadata": {
    "colab_type": "text",
    "id": "LcAJVGfSnjDi"
   },
   "source": [
    "### Using advanced Classification Algos for prediction and Comparing their Accuracy"
   ]
  },
  {
   "cell_type": "code",
   "execution_count": null,
   "metadata": {
    "colab": {},
    "colab_type": "code",
    "id": "hXi253rjnjDp"
   },
   "outputs": [],
   "source": [
    "from sklearn.linear_model import LogisticRegression\n",
    "from sklearn.svm import SVC\n",
    "from sklearn.neighbors import KNeighborsClassifier\n",
    "from sklearn import tree\n",
    "from sklearn.neural_network import MLPClassifier\n",
    "\n",
    "from sklearn.ensemble import GradientBoostingClassifier\n",
    "from sklearn.gaussian_process.kernels import RBF\n",
    "from sklearn.ensemble import RandomForestClassifier\n",
    "from sklearn.naive_bayes import GaussianNB\n",
    "\n",
    "\n",
    "\n"
   ]
  },
  {
   "cell_type": "code",
   "execution_count": null,
   "metadata": {
    "colab": {},
    "colab_type": "code",
    "id": "TDpdoB-3njD3"
   },
   "outputs": [],
   "source": [
    "# dict_of_algos={'LR':LogisticRegression(),'svc':SVC(),'KNC':KNeighborsClassifier(),\n",
    "#                'DT':tree.DecisionTreeClassifier(),'MLPc':MLPClassifier(),\n",
    "#                'GRBC':GradientBoostingClassifier(),'RFC':RandomForestClassifier()}\n",
    "# def accuracy_of_algos(dictionary):\n",
    "#     df_of_accuracy = pd.DataFrame(columns=['classifier','test_score'])\n",
    "#     count=0\n",
    "#     for k,v in dictionary.items():\n",
    "#         v.fit(count_train,y_train)\n",
    "#         y_pred = v.predict(count_test)\n",
    "#         df_of_accuracy.loc[count,'classifier']=k\n",
    "#         df_of_accuracy.loc[count,'test_score'] = accuracy_score(y_test,y_pred)\n",
    "#         count+=1\n",
    "#     return df_of_accuracy\n",
    "# print(accuracy_of_algos(dict_of_algos))    "
   ]
  },
  {
   "cell_type": "markdown",
   "metadata": {
    "colab_type": "text",
    "id": "8IXNzDCY_d5Y"
   },
   "source": [
    "Considering Training accuracy, Training-Time and Testing accuracy of each Model, to compare models"
   ]
  },
  {
   "cell_type": "code",
   "execution_count": null,
   "metadata": {
    "colab": {},
    "colab_type": "code",
    "id": "JJVDBmvDnjER"
   },
   "outputs": [],
   "source": [
    "# Time for Classification Models\n",
    "import time\n",
    "\n",
    "\n",
    "from sklearn.preprocessing import StandardScaler, LabelEncoder\n",
    " \n",
    "from sklearn.linear_model import LogisticRegression\n",
    "from sklearn.svm import SVC\n",
    "from sklearn.neighbors import KNeighborsClassifier\n",
    "from sklearn import tree\n",
    "from sklearn.neural_network import MLPClassifier\n",
    "from sklearn.neighbors import KNeighborsClassifier\n",
    "from sklearn.ensemble import GradientBoostingClassifier\n",
    "from sklearn.gaussian_process.kernels import RBF\n",
    "from sklearn.ensemble import RandomForestClassifier\n",
    "from sklearn.naive_bayes import MultinomialNB\n",
    "\n",
    "\n",
    "dict_classifiers = {\n",
    "    \"Logistic Regression\": LogisticRegression(),\n",
    "    \"Nearest Neighbors\": KNeighborsClassifier(),\n",
    "    \"Linear SVM\": SVC(),\n",
    "    \"Gradient Boosting Classifier\": GradientBoostingClassifier(),\n",
    "    \"Decision Tree\": tree.DecisionTreeClassifier(),\n",
    "    \"Random Forest\": RandomForestClassifier(n_estimators=18),\n",
    "    'NB_Classifier':MultinomialNB()\n",
    "\n",
    "}"
   ]
  },
  {
   "cell_type": "code",
   "execution_count": null,
   "metadata": {
    "colab": {},
    "colab_type": "code",
    "id": "93OnG_EFnjEb"
   },
   "outputs": [],
   "source": [
    "\n",
    "no_classifiers = len(dict_classifiers.keys())\n",
    "\n",
    "def batch_classify(X_train, Y_train,X_test, y_test,verbose = True):\n",
    "    df_results = pd.DataFrame(data=np.zeros(shape=(no_classifiers,4)), columns = ['classifier', 'train_score', 'training_time','test_score'])\n",
    "    count = 0\n",
    "    for key, classifier in dict_classifiers.items():\n",
    "        t_start = time.clock()\n",
    "        classifier.fit(X_train, Y_train)\n",
    "        t_end = time.clock()\n",
    "        t_diff = t_end - t_start\n",
    "        train_score = classifier.score(X_train, Y_train)\n",
    "        \n",
    "        y_pred=classifier.predict(X_test)\n",
    "        test_score=accuracy_score(y_test,y_pred)\n",
    "      \n",
    "        \n",
    "        df_results.loc[count,'classifier'] = key\n",
    "        df_results.loc[count,'train_score'] = train_score\n",
    "        df_results.loc[count,'training_time'] = t_diff\n",
    "        df_results.loc[count,'test_score']=test_score\n",
    "\n",
    "        if verbose:\n",
    "            print(\"trained {c} in {f:.2f} s\".format(c=key, f=t_diff))\n",
    "        count+=1\n",
    "    return df_results"
   ]
  },
  {
   "cell_type": "code",
   "execution_count": null,
   "metadata": {
    "colab": {
     "base_uri": "https://localhost:8080/",
     "height": 272
    },
    "colab_type": "code",
    "id": "FfM9xr93njEj",
    "outputId": "08cc0355-a058-4c79-a5aa-77552ef0d90b"
   },
   "outputs": [
    {
     "name": "stdout",
     "output_type": "stream",
     "text": [
      "trained Logistic Regression in 0.49 s\n",
      "trained Nearest Neighbors in 0.00 s\n",
      "trained Linear SVM in 30.94 s\n",
      "trained Gradient Boosting Classifier in 13.39 s\n",
      "trained Decision Tree in 13.93 s\n",
      "trained Random Forest in 8.11 s\n",
      "trained NB_Classifier in 0.02 s\n",
      "                     classifier  train_score  training_time  test_score\n",
      "4                 Decision Tree     1.000000      13.933179    0.859816\n",
      "0           Logistic Regression     0.998603       0.488675    0.902055\n",
      "5                 Random Forest     0.994897       8.112080    0.876967\n",
      "6                 NB_Classifier     0.974181       0.015810    0.875266\n",
      "3  Gradient Boosting Classifier     0.815686      13.388350    0.802835\n",
      "1             Nearest Neighbors     0.809246       0.003267    0.768391\n",
      "2                    Linear SVM     0.710892      30.938137    0.707583\n"
     ]
    }
   ],
   "source": [
    "df_results = batch_classify(count_train, y_train,count_test, y_test)\n",
    "print(df_results.sort_values(by='train_score', ascending=False))"
   ]
  },
  {
   "cell_type": "markdown",
   "metadata": {
    "colab_type": "text",
    "id": "vxR5KE05njEu"
   },
   "source": [
    "### Avoiding Overfitting:\n",
    "Brief Description of Overfitting: <br>\n",
    "This is an error in the modeling algorithm that takes into consideration random noise in the fitting process rather than the pattern itself. You can see that this occurs when the model gets an good score in the training set but when we use the test set (Unknown data for the model) we get bad score. This is likely to happen because of overfitting of the data (taking into consideration random noise in our pattern). What we want our model to do is to take the overall pattern of the data in order to correctly classify whether a Tweets is ADR or Not. In the examples above, it is most likely that the Decision Tree Classifier and Random Forest classifiers are overfitting since they both give us nearly perfect scores (100% and 99%) accuracy scores. <br><br>\n",
    "\n",
    "\n",
    "How can we avoid Overfitting?<br>\n",
    "The best alternative to avoid overfitting is to use cross validation. Taking the training test and splitting it. For instance, if we split it by 3, 2/3 of the data or 66% will be used for training and 1/3 33% will be used or testing and we will do the testing process three times. This algorithm will iterate through all the training and test sets and the main purpose of this is to grab the overall pattern of the data."
   ]
  },
  {
   "cell_type": "code",
   "execution_count": null,
   "metadata": {
    "colab": {},
    "colab_type": "code",
    "id": "sjPd6UvrnjEw"
   },
   "outputs": [],
   "source": [
    "# Use Cross-validation.\n",
    "from sklearn.model_selection import cross_val_score\n",
    "\n",
    "# Logistic Regression\n",
    "log_reg = LogisticRegression()\n",
    "log_scores = cross_val_score(log_reg, count_train, y_train, cv=3)\n",
    "log_reg_mean = log_scores.mean()\n",
    "\n",
    "# KNearestNeighbors\n",
    "knn_clf = KNeighborsClassifier()\n",
    "knn_scores = cross_val_score(knn_clf, count_train, y_train, cv=3)\n",
    "knn_mean = knn_scores.mean()\n",
    "\n",
    "# Decision Tree\n",
    "tree_clf = tree.DecisionTreeClassifier()\n",
    "tree_scores = cross_val_score(tree_clf, count_train, y_train, cv=3)\n",
    "tree_mean = tree_scores.mean()\n",
    "\n",
    "# Gradient Boosting Classifier\n",
    "grad_clf = GradientBoostingClassifier()\n",
    "grad_scores = cross_val_score(grad_clf, count_train, y_train, cv=3)\n",
    "grad_mean = grad_scores.mean()\n",
    "\n",
    "# Random Forest Classifier\n",
    "rand_clf = RandomForestClassifier(n_estimators=18)\n",
    "rand_scores = cross_val_score(rand_clf, count_train, y_train, cv=3)\n",
    "rand_mean = rand_scores.mean()\n",
    "\n",
    "\n",
    "# Naives Bayes\n",
    "nav_clf = MultinomialNB()\n",
    "nav_scores = cross_val_score(nav_clf, count_train, y_train, cv=3)\n",
    "nav_mean = nav_scores.mean()\n",
    "\n",
    "# Create a Dataframe with the results.\n",
    "d = {'Classifiers': ['Logistic Reg.', 'KNN', 'Dec Tree', 'Grad B CLF', 'Rand FC', 'Naives Bayes'], \n",
    "    'Crossval Mean Scores': [log_reg_mean, knn_mean, tree_mean, grad_mean, rand_mean, nav_mean]}\n",
    "\n",
    "result_df = pd.DataFrame(data=d)"
   ]
  },
  {
   "cell_type": "code",
   "execution_count": null,
   "metadata": {
    "colab": {
     "base_uri": "https://localhost:8080/",
     "height": 235
    },
    "colab_type": "code",
    "id": "Ucjy8u65njE6",
    "outputId": "29671c99-191f-484c-cddb-af2deffc03c3"
   },
   "outputs": [
    {
     "data": {
      "text/html": [
       "<div>\n",
       "<style scoped>\n",
       "    .dataframe tbody tr th:only-of-type {\n",
       "        vertical-align: middle;\n",
       "    }\n",
       "\n",
       "    .dataframe tbody tr th {\n",
       "        vertical-align: top;\n",
       "    }\n",
       "\n",
       "    .dataframe thead th {\n",
       "        text-align: right;\n",
       "    }\n",
       "</style>\n",
       "<table border=\"1\" class=\"dataframe\">\n",
       "  <thead>\n",
       "    <tr style=\"text-align: right;\">\n",
       "      <th></th>\n",
       "      <th>Classifiers</th>\n",
       "      <th>Crossval Mean Scores</th>\n",
       "    </tr>\n",
       "  </thead>\n",
       "  <tbody>\n",
       "    <tr>\n",
       "      <th>0</th>\n",
       "      <td>Logistic Reg.</td>\n",
       "      <td>0.883726</td>\n",
       "    </tr>\n",
       "    <tr>\n",
       "      <th>4</th>\n",
       "      <td>Rand FC</td>\n",
       "      <td>0.848613</td>\n",
       "    </tr>\n",
       "    <tr>\n",
       "      <th>5</th>\n",
       "      <td>Naives Bayes</td>\n",
       "      <td>0.836159</td>\n",
       "    </tr>\n",
       "    <tr>\n",
       "      <th>2</th>\n",
       "      <td>Dec Tree</td>\n",
       "      <td>0.835552</td>\n",
       "    </tr>\n",
       "    <tr>\n",
       "      <th>3</th>\n",
       "      <td>Grad B CLF</td>\n",
       "      <td>0.803293</td>\n",
       "    </tr>\n",
       "    <tr>\n",
       "      <th>1</th>\n",
       "      <td>KNN</td>\n",
       "      <td>0.749651</td>\n",
       "    </tr>\n",
       "  </tbody>\n",
       "</table>\n",
       "</div>"
      ],
      "text/plain": [
       "     Classifiers  Crossval Mean Scores\n",
       "0  Logistic Reg.              0.883726\n",
       "4        Rand FC              0.848613\n",
       "5   Naives Bayes              0.836159\n",
       "2       Dec Tree              0.835552\n",
       "3     Grad B CLF              0.803293\n",
       "1            KNN              0.749651"
      ]
     },
     "execution_count": 25,
     "metadata": {
      "tags": []
     },
     "output_type": "execute_result"
    }
   ],
   "source": [
    "# All our models perform well but I will go with GradientBoosting.\n",
    "result_df = result_df.sort_values(by=['Crossval Mean Scores'], ascending=False)\n",
    "result_df"
   ]
  },
  {
   "cell_type": "markdown",
   "metadata": {
    "colab_type": "text",
    "id": "yfhUH0NExL3H"
   },
   "source": [
    "### **As we can see Logistic Regression Clearly outperformed all other Class of Alogorithms, So we will proceed with Logistics Regression for our Final Model**"
   ]
  },
  {
   "cell_type": "markdown",
   "metadata": {
    "colab_type": "text",
    "id": "kfBMoh4lnjFP"
   },
   "source": [
    "\n",
    "## Step 5) Final Model using Logistic Regression Algorithm"
   ]
  },
  {
   "cell_type": "code",
   "execution_count": null,
   "metadata": {
    "colab": {
     "base_uri": "https://localhost:8080/",
     "height": 85
    },
    "colab_type": "code",
    "id": "qAe4UvcznjFR",
    "outputId": "3bd05c04-f56f-473a-ad9f-d60f8f3a2308"
   },
   "outputs": [
    {
     "data": {
      "text/plain": [
       "LogisticRegression(C=1.0, class_weight=None, dual=False, fit_intercept=True,\n",
       "          intercept_scaling=1, max_iter=100, multi_class='warn',\n",
       "          n_jobs=None, penalty='l2', random_state=None, solver='warn',\n",
       "          tol=0.0001, verbose=0, warm_start=False)"
      ]
     },
     "execution_count": 26,
     "metadata": {
      "tags": []
     },
     "output_type": "execute_result"
    }
   ],
   "source": [
    "from sklearn.metrics import accuracy_score\n",
    "\n",
    "logreg_clf = LogisticRegression()\n",
    "logreg_clf.fit(count_train, y_train)"
   ]
  },
  {
   "cell_type": "code",
   "execution_count": null,
   "metadata": {
    "colab": {
     "base_uri": "https://localhost:8080/",
     "height": 34
    },
    "colab_type": "code",
    "id": "jeiNTsXxnjFe",
    "outputId": "4c67f63c-d050-4a2a-d8fb-fadca51c0b8f"
   },
   "outputs": [
    {
     "name": "stdout",
     "output_type": "stream",
     "text": [
      "Logistics Regression Classifier Train accuracy is 0.90\n"
     ]
    }
   ],
   "source": [
    "y_pred=logreg_clf.predict(count_test)\n",
    "print (\"Logistics Regression Classifier Train accuracy is %2.2f\" % accuracy_score(y_test, y_pred))"
   ]
  },
  {
   "cell_type": "markdown",
   "metadata": {
    "colab_type": "text",
    "id": "qNjkTXIEnjFq"
   },
   "source": [
    "### So we are able to predict values in test Data with `90.0%` Accuracy on count Vectors"
   ]
  },
  {
   "cell_type": "markdown",
   "metadata": {
    "colab_type": "text",
    "id": "DvvsVgcbm6vc"
   },
   "source": [
    "### Let's Hypertune the model using GridSearchCV intensively with a 3 fold cross validation strategy.\n",
    "-  penalty: Used to specify the norm used in the penalization\n",
    "- class_weight : Weights associated with classes in the form {class_label: weight}\n",
    "This parameter quite important in case of imbalanced dataset.\n",
    "- n_jobs : int or None, optional (default=None)\n",
    "Number of CPU cores used when parallelizing over classes.\n",
    "- C : Inverse of regularization strength; must be a positive float.\n"
   ]
  },
  {
   "cell_type": "code",
   "execution_count": null,
   "metadata": {
    "colab": {},
    "colab_type": "code",
    "id": "wnEy-852bcle"
   },
   "outputs": [],
   "source": [
    "param_test = {\n",
    "   'penalty':['l1','l2'],\n",
    "   'class_weight': ['balanced',{0:0.7,1:0.3},None],\n",
    "   'n_jobs' : [-1],\n",
    "   'C' : [24,25,26],\n",
    "   'tol':[0.04,0.05,0.06],\n",
    "   'solver':['liblinear','warn']\n",
    "}"
   ]
  },
  {
   "cell_type": "code",
   "execution_count": null,
   "metadata": {
    "colab": {},
    "colab_type": "code",
    "id": "3adPPSaXdJrT"
   },
   "outputs": [],
   "source": [
    "from sklearn.model_selection import GridSearchCV\n",
    "gsearch = GridSearchCV(estimator = LogisticRegression(random_state=42), param_grid = param_test, scoring='accuracy',n_jobs=-1,iid=False, cv=3)\n"
   ]
  },
  {
   "cell_type": "code",
   "execution_count": null,
   "metadata": {
    "colab": {
     "base_uri": "https://localhost:8080/",
     "height": 190
    },
    "colab_type": "code",
    "id": "7iQ0K__nde8X",
    "outputId": "c4e8145f-4646-4a9a-eb98-264cabbdf32b"
   },
   "outputs": [
    {
     "data": {
      "text/plain": [
       "GridSearchCV(cv=3, error_score='raise-deprecating',\n",
       "       estimator=LogisticRegression(C=1.0, class_weight=None, dual=False, fit_intercept=True,\n",
       "          intercept_scaling=1, max_iter=100, multi_class='warn',\n",
       "          n_jobs=None, penalty='l2', random_state=42, solver='warn',\n",
       "          tol=0.0001, verbose=0, warm_start=False),\n",
       "       fit_params=None, iid=False, n_jobs=-1,\n",
       "       param_grid={'penalty': ['l1', 'l2'], 'class_weight': ['balanced', {0: 0.7, 1: 0.3}, None], 'n_jobs': [-1], 'C': [24, 25, 26], 'tol': [0.04, 0.05, 0.06], 'solver': ['liblinear', 'warn']},\n",
       "       pre_dispatch='2*n_jobs', refit=True, return_train_score='warn',\n",
       "       scoring='accuracy', verbose=0)"
      ]
     },
     "execution_count": 125,
     "metadata": {
      "tags": []
     },
     "output_type": "execute_result"
    }
   ],
   "source": [
    "gsearch.fit(count_train,y_train)"
   ]
  },
  {
   "cell_type": "code",
   "execution_count": null,
   "metadata": {
    "colab": {
     "base_uri": "https://localhost:8080/",
     "height": 51
    },
    "colab_type": "code",
    "id": "AvBqOSygeLhc",
    "outputId": "d4138b3d-ab99-421e-8cbf-1561d372f8cf"
   },
   "outputs": [
    {
     "name": "stdout",
     "output_type": "stream",
     "text": [
      "{'C': 25, 'class_weight': 'balanced', 'n_jobs': -1, 'penalty': 'l2', 'solver': 'liblinear', 'tol': 0.04}\n",
      "0.886763124615154\n"
     ]
    }
   ],
   "source": [
    "print(gsearch.best_params_)\n",
    "print(gsearch.best_score_)"
   ]
  },
  {
   "cell_type": "code",
   "execution_count": null,
   "metadata": {
    "colab": {},
    "colab_type": "code",
    "id": "LJo_7bader_3"
   },
   "outputs": [],
   "source": []
  },
  {
   "cell_type": "markdown",
   "metadata": {
    "colab_type": "text",
    "id": "vvat9c-LnCda"
   },
   "source": [
    "#### Building our final model using Parameters returned by GridSearchCV"
   ]
  },
  {
   "cell_type": "code",
   "execution_count": null,
   "metadata": {
    "colab": {
     "base_uri": "https://localhost:8080/",
     "height": 34
    },
    "colab_type": "code",
    "id": "KLZ8uYm5iUso",
    "outputId": "f92f8c74-b822-4db5-937e-8f7b3128b9ba"
   },
   "outputs": [
    {
     "data": {
      "text/plain": [
       "1.0"
      ]
     },
     "execution_count": 127,
     "metadata": {
      "tags": []
     },
     "output_type": "execute_result"
    }
   ],
   "source": [
    "logreg_clf=LogisticRegression(**gsearch.best_params_, random_state=42)\n",
    "logreg_clf.fit(count_train,y_train)\n",
    "y_pred = logreg_clf.predict(count_train)\n",
    "accuracy_score(y_train,y_pred)"
   ]
  },
  {
   "cell_type": "code",
   "execution_count": null,
   "metadata": {
    "colab": {
     "base_uri": "https://localhost:8080/",
     "height": 170
    },
    "colab_type": "code",
    "id": "ij2whBA7jDbg",
    "outputId": "5d7a0c94-0752-47bd-e636-369b89b04f4e"
   },
   "outputs": [
    {
     "name": "stdout",
     "output_type": "stream",
     "text": [
      "              precision    recall  f1-score   support\n",
      "\n",
      "           0       1.00      1.00      1.00     11702\n",
      "           1       1.00      1.00      1.00      4759\n",
      "\n",
      "   micro avg       1.00      1.00      1.00     16461\n",
      "   macro avg       1.00      1.00      1.00     16461\n",
      "weighted avg       1.00      1.00      1.00     16461\n",
      "\n"
     ]
    }
   ],
   "source": [
    "from sklearn.metrics import classification_report\n",
    "print(classification_report(y_train,y_pred))"
   ]
  },
  {
   "cell_type": "markdown",
   "metadata": {
    "colab_type": "text",
    "id": "HtdKOjP6nCXO"
   },
   "source": [
    "### Using Model to predict on Test Data"
   ]
  },
  {
   "cell_type": "code",
   "execution_count": null,
   "metadata": {
    "colab": {
     "base_uri": "https://localhost:8080/",
     "height": 34
    },
    "colab_type": "code",
    "id": "TbLbiB7BmQqY",
    "outputId": "d867ddac-9aae-4dda-986b-029a4e639b31"
   },
   "outputs": [
    {
     "name": "stdout",
     "output_type": "stream",
     "text": [
      "0.9019135364989369\n"
     ]
    }
   ],
   "source": [
    "y_pred = logreg_clf.predict(count_test)\n",
    "y_proba = logreg_clf.predict_proba(count_test)[:,1]\n",
    "print(accuracy_score(y_test,y_pred))"
   ]
  },
  {
   "cell_type": "code",
   "execution_count": null,
   "metadata": {
    "colab": {},
    "colab_type": "code",
    "id": "NzYlYZQBqLu6"
   },
   "outputs": [],
   "source": [
    "#Creating Dataframe of TweetID,Actual labels, Predicted Labels and predicted probability\n",
    "X_test_df = pd.DataFrame({'TweetID':X_test.TweetId.values,'Actual_ADR_label':y_test.values,\n",
    "                          'Predicted_ADR_label':y_pred.reshape(-1), 'predict_probability':y_proba.reshape(-1)})"
   ]
  },
  {
   "cell_type": "code",
   "execution_count": null,
   "metadata": {
    "colab": {
     "base_uri": "https://localhost:8080/",
     "height": 204
    },
    "colab_type": "code",
    "id": "ntgS6jInq1Ap",
    "outputId": "b5ba69ba-1f54-4af4-8f8a-6b5a641a21f6"
   },
   "outputs": [
    {
     "data": {
      "text/html": [
       "<div>\n",
       "<style scoped>\n",
       "    .dataframe tbody tr th:only-of-type {\n",
       "        vertical-align: middle;\n",
       "    }\n",
       "\n",
       "    .dataframe tbody tr th {\n",
       "        vertical-align: top;\n",
       "    }\n",
       "\n",
       "    .dataframe thead th {\n",
       "        text-align: right;\n",
       "    }\n",
       "</style>\n",
       "<table border=\"1\" class=\"dataframe\">\n",
       "  <thead>\n",
       "    <tr style=\"text-align: right;\">\n",
       "      <th></th>\n",
       "      <th>TweetID</th>\n",
       "      <th>Actual_ADR_label</th>\n",
       "      <th>Predicted_ADR_label</th>\n",
       "      <th>predict_probability</th>\n",
       "    </tr>\n",
       "  </thead>\n",
       "  <tbody>\n",
       "    <tr>\n",
       "      <th>0</th>\n",
       "      <td>592898</td>\n",
       "      <td>0</td>\n",
       "      <td>0</td>\n",
       "      <td>0.007202</td>\n",
       "    </tr>\n",
       "    <tr>\n",
       "      <th>1</th>\n",
       "      <td>263401</td>\n",
       "      <td>1</td>\n",
       "      <td>1</td>\n",
       "      <td>0.792614</td>\n",
       "    </tr>\n",
       "    <tr>\n",
       "      <th>2</th>\n",
       "      <td>609107</td>\n",
       "      <td>0</td>\n",
       "      <td>0</td>\n",
       "      <td>0.226630</td>\n",
       "    </tr>\n",
       "    <tr>\n",
       "      <th>3</th>\n",
       "      <td>724009</td>\n",
       "      <td>0</td>\n",
       "      <td>0</td>\n",
       "      <td>0.022986</td>\n",
       "    </tr>\n",
       "    <tr>\n",
       "      <th>4</th>\n",
       "      <td>844053</td>\n",
       "      <td>0</td>\n",
       "      <td>0</td>\n",
       "      <td>0.306027</td>\n",
       "    </tr>\n",
       "  </tbody>\n",
       "</table>\n",
       "</div>"
      ],
      "text/plain": [
       "   TweetID  Actual_ADR_label  Predicted_ADR_label  predict_probability\n",
       "0   592898                 0                    0             0.007202\n",
       "1   263401                 1                    1             0.792614\n",
       "2   609107                 0                    0             0.226630\n",
       "3   724009                 0                    0             0.022986\n",
       "4   844053                 0                    0             0.306027"
      ]
     },
     "execution_count": 131,
     "metadata": {
      "tags": []
     },
     "output_type": "execute_result"
    }
   ],
   "source": [
    "X_test_df.head()"
   ]
  },
  {
   "cell_type": "markdown",
   "metadata": {
    "colab_type": "text",
    "id": "uaEpHbZYmbl3"
   },
   "source": [
    "## Evaluation of Model\n",
    "Our Main criteria for Model Evaluation is Accuracy but in this section we will see some other very important Model Evaluation metrics as well and use them to evaluate the perfomance of Our Model.<br>\n",
    "Let's start with Confusion Matrix:"
   ]
  },
  {
   "cell_type": "markdown",
   "metadata": {
    "colab_type": "text",
    "id": "m5anv1TXnjF1"
   },
   "source": [
    "### Insights of a Confusion Matrix: \n",
    "The main purpose of a confusion matrix is to see how our model is performing when it comes to classifying Tweets that are likely to be ADR. We will see in the confusion matrix, four terms:<br>\n",
    "The True Positives, False Positives, True Negatives and False Negatives.<br><br>\n",
    "\n",
    "**Positive/Negative:** Type of Class (label) [\"Non-ADR\", \"ADR\"]\n",
    "**True/False:** Correctly or Incorrectly classified by the model.<br>\n",
    "\n",
    "**True Negatives (Top-Left Square):** This is the number of **correctly** classifications of the \"0\" class or correctly predicted Non-ADR <br>\n",
    "\n",
    "**False Negatives (Bottom-Left Square):** This is the number of **incorrectly** classifications of the \"1\" class or ADR's which were classified as Non-ADR by our model. <br>\n",
    "\n",
    "**False Positives (Top-Right Square):** This is the number of **incorrectly** classifications of the \"0\" class or Non-ADR which were classified as ADR by our model <br>\n",
    "\n",
    "**True Positives (Bottom-Right Square):** This is the number of **correctly** classifications of the \"1\" class or ADR class correctly predicted as ADR."
   ]
  },
  {
   "cell_type": "code",
   "execution_count": null,
   "metadata": {
    "colab": {
     "base_uri": "https://localhost:8080/",
     "height": 437
    },
    "colab_type": "code",
    "id": "lF5m4Hg3njF3",
    "outputId": "e646b4ab-9662-4555-f52d-67f355704fa7"
   },
   "outputs": [
    {
     "data": {
      "image/png": "[encoded data removed]",
      "text/plain": [
       "<Figure size 720x432 with 2 Axes>"
      ]
     },
     "metadata": {
      "tags": []
     },
     "output_type": "display_data"
    }
   ],
   "source": [
    "from sklearn.metrics import confusion_matrix\n",
    "\n",
    "conf_matrix = confusion_matrix(y_test, y_pred)\n",
    "f, ax = plt.subplots(figsize=(10, 6))\n",
    "sns.heatmap(conf_matrix, annot=True, fmt='d', linewidths=.5, ax=ax)\n",
    "plt.title(\"Confusion Matrix\", fontsize=20)\n",
    "plt.subplots_adjust(left=0.15, right=0.99, bottom=0.15, top=0.99)\n",
    "ax.set_yticks(np.arange(conf_matrix.shape[0]) + 0.5, minor=False)\n",
    "ax.set_xticklabels([\"Predicted Non-ADR\",'Predicted ADR'],fontsize=16, rotation=360)\n",
    "ax.set_yticklabels(['Actual NON-ADR', 'Actual ADR'], fontsize=16, rotation=360)\n",
    "plt.show()\n"
   ]
  },
  {
   "cell_type": "markdown",
   "metadata": {
    "colab_type": "text",
    "id": "tP7dBz77Omym"
   },
   "source": [
    "### Precision and Recall \n",
    "We will see the Precsion and Recall score in next cell, but before that let's understand what precision and recall actualy mean:<br>\n",
    "- **Precision Score:** Of all the ADR's tweets that our Model predicted, how many are actually true.<br>\n",
    "- **Recall Score:**Of all the Actual ADR tweets, how many did our model actually predicted correctly\n"
   ]
  },
  {
   "cell_type": "code",
   "execution_count": null,
   "metadata": {
    "colab": {
     "base_uri": "https://localhost:8080/",
     "height": 51
    },
    "colab_type": "code",
    "id": "Wk7NYIcHnjGC",
    "outputId": "4a73d37c-2644-4216-c1ac-7d162befffff"
   },
   "outputs": [
    {
     "name": "stdout",
     "output_type": "stream",
     "text": [
      "The model is 84.0 % sure that the tweets predcited as ADR are ADR\n",
      "The model is predicting 81.0 % of all ADR tweets\n"
     ]
    }
   ],
   "source": [
    "# Let's find the scores  for precision and recall.\n",
    "from sklearn.metrics import precision_score, recall_score\n",
    "\n",
    "\n",
    "print('The model is {c} % sure that the tweets predcited as ADR are ADR'.format(c=np.round(precision_score(y_test, y_pred),2)*100))\n",
    "print('The model is predicting {c} % of all ADR tweets'.format(c=np.round(recall_score(y_test, y_pred),2)*100))\n"
   ]
  },
  {
   "cell_type": "markdown",
   "metadata": {
    "colab_type": "text",
    "id": "RpG7mNfvTN00"
   },
   "source": [
    "### f-1 score\n",
    "**f-1 Score** is defined as the harmonic mean between precision and recall. It is used as a statistical measure to rate performance. In other words, an F1-score (from 0 to 9, 0 being lowest and 9 being the highest) is a mean of an individual's performance, based on two factors i.e. precision and recall"
   ]
  },
  {
   "cell_type": "code",
   "execution_count": null,
   "metadata": {
    "colab": {
     "base_uri": "https://localhost:8080/",
     "height": 34
    },
    "colab_type": "code",
    "id": "DmNmE0_injGL",
    "outputId": "abd5b0be-c792-42b2-8372-43b3ea27571d"
   },
   "outputs": [
    {
     "data": {
      "text/plain": [
       "82.92201382033564"
      ]
     },
     "execution_count": 134,
     "metadata": {
      "tags": []
     },
     "output_type": "execute_result"
    }
   ],
   "source": [
    "from sklearn.metrics import f1_score\n",
    "f1_score(y_test, y_pred)*100"
   ]
  },
  {
   "cell_type": "markdown",
   "metadata": {
    "colab_type": "text",
    "id": "Hy_HIL-vTpKK"
   },
   "source": [
    "### Plotting the Graph of Probability vs Precision and Probability vs Recall "
   ]
  },
  {
   "cell_type": "code",
   "execution_count": null,
   "metadata": {
    "colab": {
     "base_uri": "https://localhost:8080/",
     "height": 486
    },
    "colab_type": "code",
    "id": "8pvOG4GXnjGV",
    "outputId": "cd71b281-2f6f-4e7c-98f0-74e5de56e857"
   },
   "outputs": [
    {
     "data": {
      "image/png": "[encoded data removed]",
      "text/plain": [
       "<Figure size 1008x576 with 1 Axes>"
      ]
     },
     "metadata": {
      "tags": []
     },
     "output_type": "display_data"
    }
   ],
   "source": [
    "from sklearn.metrics import precision_recall_curve\n",
    "plt.figure(figsize=(14,8))\n",
    "y_prob=logreg_clf.predict_proba(count_test)[:,1]\n",
    "precisions, recalls, threshold = precision_recall_curve(y_test, y_prob)\n",
    "plt.plot(threshold,recalls[:-1],marker='.',label='recall')\n",
    "plt.plot(threshold,precisions[:-1],marker='.',label='precision')\n",
    "plt.legend(frameon=True,fontsize=20)\n",
    "plt.axvline(x=0.445,c='black')\n",
    "\n",
    "plt.show()"
   ]
  },
  {
   "cell_type": "markdown",
   "metadata": {
    "colab_type": "text",
    "id": "3Ax_PTUinjGf"
   },
   "source": [
    "## The Probablity threshold for Balanced value of Precision vs Recall is `0.445`\n",
    "Note: We can pick any Probability threshold for classifying the lables as per requirement and trade-off between Precision and Recall."
   ]
  },
  {
   "cell_type": "markdown",
   "metadata": {
    "colab_type": "text",
    "id": "Ctpqxra8njGj"
   },
   "source": [
    "## ROC Curve (Receiver Operating Characteristic):\n",
    "\n",
    "An ROC curve demonstrates several things:\n",
    "\n",
    "- It shows the tradeoff between sensitivity and specificity (any increase in sensitivity will be accompanied by a decrease in specificity).\n",
    "- The closer the curve follows the left-hand border and then the top border of the ROC space, the more accurate the test.\n",
    "- The closer the curve comes to the 45-degree diagonal of the ROC space, the less accurate the test.\n",
    "\n",
    "So **ROC curve** is basically  telling us how well our classifier is classifying between ADR (True Positives) and Non-ADR. The **X-axis** is represented by False positive rates (Specificity) and the **Y-axis** is represented by the True Positive Rate (Sensitivity.) As the line moves the threshold of the classification changes giving us different values. The closer is the line to our top left corner the better is our model separating both classes.\n"
   ]
  },
  {
   "cell_type": "code",
   "execution_count": null,
   "metadata": {
    "colab": {},
    "colab_type": "code",
    "id": "AL2kTRt2njGn"
   },
   "outputs": [],
   "source": [
    "from sklearn.metrics import roc_curve\n",
    "lrd_fpr, lrd_tpr, threshold = roc_curve(y_test, y_prob)"
   ]
  },
  {
   "cell_type": "code",
   "execution_count": null,
   "metadata": {
    "colab": {
     "base_uri": "https://localhost:8080/",
     "height": 434
    },
    "colab_type": "code",
    "id": "vd_0zUUWnjGu",
    "outputId": "a3b2e33f-e442-47fd-e0c4-13ca770b90e4"
   },
   "outputs": [
    {
     "data": {
      "image/png": "[encoded data removed]",
      "text/plain": [
       "<Figure size 720x432 with 1 Axes>"
      ]
     },
     "metadata": {
      "tags": []
     },
     "output_type": "display_data"
    }
   ],
   "source": [
    "def graph_roc_curve(false_positive_rate, true_positive_rate, label=None):\n",
    "    plt.figure(figsize=(10,6))\n",
    "    plt.title('ROC Curve \\n logistic Classifier', fontsize=18)\n",
    "    plt.plot(false_positive_rate, true_positive_rate, label=label)\n",
    "    plt.plot([0, 1], [0, 1], '#0C8EE0')\n",
    "    plt.axis([0, 1, 0, 1])\n",
    "    plt.xlabel('False Positive Rate', fontsize=16)\n",
    "    plt.ylabel('True Positive Rate', fontsize=16)\n",
    "    plt.annotate('ROC Score of 95.09% \\n ', xy=(0.25, 0.9), xytext=(0.4, 0.85),\n",
    "            arrowprops=dict(facecolor='#F75118', shrink=0.05),\n",
    "            )\n",
    "    plt.annotate('Minimum ROC Score of 50% \\n (This is the minimum score to get)', xy=(0.5, 0.5), xytext=(0.6, 0.3),\n",
    "                arrowprops=dict(facecolor='#F75118', shrink=0.05),\n",
    "                )\n",
    "    \n",
    "    \n",
    "graph_roc_curve(lrd_fpr, lrd_tpr, threshold)\n",
    "plt.show()"
   ]
  },
  {
   "cell_type": "code",
   "execution_count": null,
   "metadata": {
    "colab": {
     "base_uri": "https://localhost:8080/",
     "height": 34
    },
    "colab_type": "code",
    "id": "FAlabIO6njG4",
    "outputId": "24969288-b700-48e1-daf9-d9793a1ebd10"
   },
   "outputs": [
    {
     "name": "stdout",
     "output_type": "stream",
     "text": [
      "Logistic Regression Classifier AUC-ROC Score:  0.950893314907342\n"
     ]
    }
   ],
   "source": [
    "from sklearn.metrics import roc_auc_score\n",
    "\n",
    "print('Logistic Regression Classifier AUC-ROC Score: ', roc_auc_score(y_test, y_prob))\n"
   ]
  },
  {
   "cell_type": "code",
   "execution_count": null,
   "metadata": {
    "colab": {},
    "colab_type": "code",
    "id": "CREHENPunjHE"
   },
   "outputs": [],
   "source": []
  },
  {
   "cell_type": "markdown",
   "metadata": {
    "colab_type": "text",
    "id": "arDauv3Jicxe"
   },
   "source": [
    "## Conclusion\n",
    "With this, we can conclude that we created a mathematical model that can be used to increase the effectiveness of classification of tweets into **ADR and Non-ADR ** and evaluated the model on various parameters and metrics<br>\n",
    "We can proceed with implementation of this model on real time data and can also **tweak** it to produce results based on different requirments by **changing the threshold Probability of classification.** <br>\n",
    "Given below is performance metrics values, we used to evaluate our logistic Regression Model:\n",
    "- **Accuracy-Score : 90.19%**\n",
    "- **Precision : 84.25**\n",
    "- **Recall :  81.35**\n",
    "- **f1- Score : 82.92**\n",
    "- **ROC-AUC Score : 95.08**"
   ]
  },
  {
   "cell_type": "markdown",
   "metadata": {
    "colab_type": "text",
    "id": "mSVFL-V4m0Sn"
   },
   "source": [
    "Before we end our analysis, let's try some ensembling models and see, if we are able to achieve any significant increase in our predictive power."
   ]
  },
  {
   "cell_type": "code",
   "execution_count": null,
   "metadata": {
    "colab": {},
    "colab_type": "code",
    "id": "ub2aGYeuU8qn"
   },
   "outputs": [],
   "source": []
  },
  {
   "cell_type": "code",
   "execution_count": null,
   "metadata": {
    "colab": {},
    "colab_type": "code",
    "id": "fOAok126U8n7"
   },
   "outputs": [],
   "source": []
  },
  {
   "cell_type": "markdown",
   "metadata": {
    "colab_type": "text",
    "id": "FACt1yCxxQYy"
   },
   "source": [
    "## Trying Ensemble based algorithms\n",
    "**Ensemble methods is a machine learning technique that combines several base models in order to produce one optimal predictive model**\n",
    "- **BAGGing**, or Bootstrap AGGregating. BAGGing gets its name because it combines Bootstrapping and Aggregation to form one ensemble model. Given a sample of data, multiple bootstrapped subsamples are pulled. A Decision Tree is formed on each of the bootstrapped subsamples. After each subsample Decision Tree has been formed, an algorithm is used to aggregate over the Decision Trees to form the most efficient predictor which is also known as Random Forest.\n",
    "- **Boosting: ** In this models are trained sequentially, where (n)th model uses the output of (n-1)th model and works on the limitation of the previous model, the process stops when result stops improving.<br>\n",
    " XGBoost is an algorithm that has recently been dominating applied machine learning. XGBoost is an optimized distributed gradient boosting library designed to be highly efficient, flexible and portable. It implements machine learning algorithms under the Gradient Boosting framework. "
   ]
  },
  {
   "cell_type": "markdown",
   "metadata": {
    "colab_type": "text",
    "id": "XhQUqKZJ0ZAN"
   },
   "source": [
    "### Before we jump into creating models, Let's write a function which takes model as input and print Evaluated Scores:"
   ]
  },
  {
   "cell_type": "code",
   "execution_count": null,
   "metadata": {
    "colab": {},
    "colab_type": "code",
    "id": "hLaLG8vV1RZN"
   },
   "outputs": [],
   "source": [
    "from sklearn.metrics import confusion_matrix\n",
    "from sklearn.metrics import classification_report\n",
    "from sklearn.metrics import roc_auc_score\n",
    "from sklearn.metrics import accuracy_score\n",
    "\n",
    "\n",
    "def get_score(model):\n",
    "    model.fit(count_train,y_train)\n",
    "    y_pred=model.predict(count_test)\n",
    "    print(confusion_matrix(y_test,y_pred))\n",
    "    print(classification_report(y_test,y_pred))\n",
    "    print(\"The accuracy for Model is:\",accuracy_score(y_test,y_pred))\n",
    "    print(roc_auc_score(y_test,model.predict_proba(count_test)[:,1]))"
   ]
  },
  {
   "cell_type": "markdown",
   "metadata": {
    "colab_type": "text",
    "id": "ebuwuKu40A3C"
   },
   "source": [
    "### Creating RandomForestClassifier and Hypertuning the Parameters:\n"
   ]
  },
  {
   "cell_type": "code",
   "execution_count": null,
   "metadata": {
    "colab": {},
    "colab_type": "code",
    "id": "ZnG8v-kyU8h4"
   },
   "outputs": [],
   "source": [
    "from sklearn.model_selection import GridSearchCV\n",
    "from sklearn.ensemble import RandomForestClassifier\n",
    "\n",
    "rf_model  = RandomForestClassifier(bootstrap = True,\n",
    "                                #adjusting Wieght to deal with Heavily Imbalanced Data\n",
    "                                class_weight = {0:7 , 1:3 } , criterion = 'entropy' , \n",
    "                                #depth of Model\n",
    "                                max_depth = 10,\n",
    "                                #minimum number of samples at a leaf\n",
    "                                min_samples_leaf=10 ,  \n",
    "                                #number of trees \n",
    "                                n_estimators=100 , n_jobs = -1 , random_state = 5)\n"
   ]
  },
  {
   "cell_type": "code",
   "execution_count": null,
   "metadata": {
    "colab": {
     "base_uri": "https://localhost:8080/",
     "height": 238
    },
    "colab_type": "code",
    "id": "H9Uw5zDZ1uTX",
    "outputId": "5c6dd789-5579-45ae-96d4-f9d8adcb5c67"
   },
   "outputs": [
    {
     "name": "stdout",
     "output_type": "stream",
     "text": [
      "[[4992    0]\n",
      " [2063    0]]\n",
      "              precision    recall  f1-score   support\n",
      "\n",
      "           0       0.71      1.00      0.83      4992\n",
      "           1       0.00      0.00      0.00      2063\n",
      "\n",
      "   micro avg       0.71      0.71      0.71      7055\n",
      "   macro avg       0.35      0.50      0.41      7055\n",
      "weighted avg       0.50      0.71      0.59      7055\n",
      "\n",
      "The accuracy for Model is: 0.7075832742735648\n",
      "0.8433704785630833\n"
     ]
    }
   ],
   "source": [
    "get_score(rf_model)"
   ]
  },
  {
   "cell_type": "markdown",
   "metadata": {
    "colab_type": "text",
    "id": "tHl5ZWIC0tNe"
   },
   "source": [
    "#### Implementing GridSearchCV for RandomForest"
   ]
  },
  {
   "cell_type": "code",
   "execution_count": null,
   "metadata": {
    "colab": {},
    "colab_type": "code",
    "id": "Re5qVacC0mnu"
   },
   "outputs": [],
   "source": [
    "params = { 'n_estimators':[100,150,200],\n",
    "          'max_features': ['auto', 'log2'] ,\n",
    "          'class_weight':[{0:3,1:7},'balanced','balanced_subsample',None],\n",
    "          'max_depth' : [16,32,64] , \n",
    "          'min_samples_leaf' : [5,10,15],\n",
    "          'criterion' : ['gini', 'entropy']\n",
    "            }\n",
    "\n",
    "sample_model = RandomForestClassifier(random_state = 42,n_jobs=-1)"
   ]
  },
  {
   "cell_type": "code",
   "execution_count": 36,
   "metadata": {
    "colab": {
     "base_uri": "https://localhost:8080/",
     "height": 119
    },
    "colab_type": "code",
    "id": "OrkMVdne2dZ9",
    "outputId": "35e1439d-0b48-4cfa-c64b-282d9d0ad97a"
   },
   "outputs": [
    {
     "data": {
      "text/plain": [
       "{'class_weight': {0: 3, 1: 7},\n",
       " 'criterion': 'gini',\n",
       " 'max_depth': 64,\n",
       " 'max_features': 'auto',\n",
       " 'min_samples_leaf': 5,\n",
       " 'n_estimators': 200}"
      ]
     },
     "execution_count": 36,
     "metadata": {
      "tags": []
     },
     "output_type": "execute_result"
    }
   ],
   "source": [
    "cv_model = GridSearchCV(estimator= sample_model, param_grid=params, cv = 3 , scoring='accuracy' , n_jobs = -1)\n",
    "cv_model.fit(count_train, y_train)\n",
    "cv_model.best_params_"
   ]
  },
  {
   "cell_type": "code",
   "execution_count": null,
   "metadata": {
    "colab": {},
    "colab_type": "code",
    "id": "kKeJAVIi2y5P"
   },
   "outputs": [],
   "source": [
    "rf_clf = RandomForestClassifier(**cv_model.best_params_, n_jobs = -1 , random_state =42)"
   ]
  },
  {
   "cell_type": "code",
   "execution_count": 40,
   "metadata": {
    "colab": {
     "base_uri": "https://localhost:8080/",
     "height": 238
    },
    "colab_type": "code",
    "id": "BiCqXPiH4s4t",
    "outputId": "77b49606-cd75-4d62-c717-8c090d84ce5e"
   },
   "outputs": [
    {
     "name": "stdout",
     "output_type": "stream",
     "text": [
      "[[4426  566]\n",
      " [ 736 1327]]\n",
      "              precision    recall  f1-score   support\n",
      "\n",
      "           0       0.86      0.89      0.87      4992\n",
      "           1       0.70      0.64      0.67      2063\n",
      "\n",
      "   micro avg       0.82      0.82      0.82      7055\n",
      "   macro avg       0.78      0.76      0.77      7055\n",
      "weighted avg       0.81      0.82      0.81      7055\n",
      "\n",
      "The accuracy for Model is: 0.8154500354358611\n",
      "0.8699102276681954\n"
     ]
    }
   ],
   "source": [
    "get_score(rf_clf)"
   ]
  },
  {
   "cell_type": "markdown",
   "metadata": {
    "colab_type": "text",
    "id": "Jjnb_EOvnjHL"
   },
   "source": [
    "#### Creating and Hypertuning the XGBoost model intensively.\n",
    "- grid search for max_depth,min_child_weight.\n",
    "- parameter scale_pos_weight is quite important in case of imbalanced dataset\n",
    "\n",
    "\n"
   ]
  },
  {
   "cell_type": "code",
   "execution_count": null,
   "metadata": {
    "colab": {},
    "colab_type": "code",
    "id": "fPbDkMIEnjHN"
   },
   "outputs": [],
   "source": [
    "from xgboost import XGBClassifier\n"
   ]
  },
  {
   "cell_type": "code",
   "execution_count": null,
   "metadata": {
    "colab": {
     "base_uri": "https://localhost:8080/",
     "height": 51
    },
    "colab_type": "code",
    "id": "7Qw0g-frnjHf",
    "outputId": "cd05630d-924d-429b-9329-00698bbc928f"
   },
   "outputs": [
    {
     "name": "stdout",
     "output_type": "stream",
     "text": [
      "gsearch.best_params_ {'min_child_weight': 5}\n",
      "gsearch.best_score_ 0.5426579381731707\n"
     ]
    }
   ],
   "source": [
    "from sklearn.model_selection import GridSearchCV\n",
    "param_test = {\n",
    "  'min_child_weight':[5,6],\n",
    "#   'max_depth': range(3,10,2),\n",
    "#   'n_estimators':[150,200,300,400],\n",
    "#   'scale_pos_weight':[1,2,3,4],\n",
    "#   'colsample_bytree':[0.7,0.8], \n",
    "#   'subsample':[0.7,0.8],\n",
    "#   'gamma':[0,0.2,0.4]\n",
    "    \n",
    "}\n",
    "gsearch = GridSearchCV(estimator = XGBClassifier(), param_grid = param_test, scoring='f1',n_jobs=4,iid=False, cv=3)\n",
    "gsearch.fit(count_train, y_train)\n",
    "#print(gsearch.grid_scores_)\n",
    "print(\"gsearch.best_params_\",gsearch.best_params_)\n",
    "print(\"gsearch.best_score_\",gsearch.best_score_)\n"
   ]
  },
  {
   "cell_type": "code",
   "execution_count": null,
   "metadata": {
    "colab": {},
    "colab_type": "code",
    "id": "nZ6W3tMVnjH3"
   },
   "outputs": [],
   "source": [
    "modelXg = XGBClassifier(learning_rate=0.1, n_estimators=200, max_depth=4, min_child_weight=7, \n",
    "                      gamma=0.4,nthread=4, subsample=0.8, colsample_bytree=0.8, objective= 'binary:logistic',scale_pos_weight=3,seed=29)\n",
    "modelXg.fit(count_train, y_train)\n",
    "y_xg = modelXg.predict(count_test)"
   ]
  },
  {
   "cell_type": "code",
   "execution_count": null,
   "metadata": {
    "colab": {
     "base_uri": "https://localhost:8080/",
     "height": 153
    },
    "colab_type": "code",
    "id": "ti97mTnnnjIJ",
    "outputId": "8908752b-eff3-416b-d13f-5bbf7cfce5ba"
   },
   "outputs": [
    {
     "name": "stdout",
     "output_type": "stream",
     "text": [
      "[[3996  996]\n",
      " [ 474 1589]]\n",
      "Accuracy_score: 79.16% on test dataset\n",
      "precision_score: 61.47% on test dataset\n",
      "recall_score: 77.02% on test dataset\n",
      "f1_score: 68.37% on test dataset\n",
      "roc_auc test set 0.8678951275992146\n",
      "roc_auc training set 0.8931396938664803\n"
     ]
    }
   ],
   "source": [
    "## Determine whether your model is overfitting or not , with the help of ROC.\n",
    "print(confusion_matrix(y_test, y_xg))\n",
    "predictions = [value for value in y_xg]\n",
    "accuracy = accuracy_score(y_test, predictions)\n",
    "precision = precision_score(y_test, predictions)\n",
    "recall = recall_score(y_test, predictions)\n",
    "f1 = f1_score(y_test, predictions)\n",
    "print(\"Accuracy_score: %.2f%% on test dataset\" % (accuracy * 100.0))\n",
    "print(\"precision_score: %.2f%% on test dataset\" % (precision * 100.0))\n",
    "print(\"recall_score: %.2f%% on test dataset\" % (recall * 100.0))\n",
    "print(\"f1_score: %.2f%% on test dataset\" % (f1 * 100.0))\n",
    "print(\"roc_auc test set\", roc_auc_score(y_test, modelXg.predict_proba(count_test)[:,1]))\n",
    "print(\"roc_auc training set\", roc_auc_score(y_train, modelXg.predict_proba(count_train)[:,1]))"
   ]
  },
  {
   "cell_type": "code",
   "execution_count": null,
   "metadata": {
    "colab": {},
    "colab_type": "code",
    "id": "HPX9yTiAnjIY"
   },
   "outputs": [],
   "source": []
  },
  {
   "cell_type": "markdown",
   "metadata": {
    "colab_type": "text",
    "id": "79qXcThM6k5H"
   },
   "source": [
    "### Stacking algorithm\n",
    "**Stacking**: (also called meta ensembling) is a model ensembling technique used to combine information from multiple  trained predictive models to generate a new model. <br>\n",
    "Often times the stacked model (also called 2nd-level model) will outperform each of the individual models due its smoothing nature and ability to highlight each base model where it performs best and discredit each base model where it performs poorly. For this reason, stacking is most effective when the base models are significantly different.\n",
    "### Let's Proceed with stacking  create ML Classifier"
   ]
  },
  {
   "cell_type": "markdown",
   "metadata": {
    "colab_type": "text",
    "id": "8Igy0vEn5QYG"
   },
   "source": [
    "\n",
    "### Voting Rule Parameter¶\n",
    "- **Hard** : Uses predicted class Labels and takes Majority Votes. \n",
    "- **Soft** : uses Average probability by combining probablities of individual models.\n",
    "\n",
    "We can Also assign weights to model prediction when we know that one of the models is outperforming. For example:\n",
    "<br>\n",
    "ens_model = VotingClassifier( estimators = [('lr' , clf1) ,( 'rf', clf2),( 'nb', clf3) ], voting = 'hard' , weights = [1,2,1] ]"
   ]
  },
  {
   "cell_type": "code",
   "execution_count": null,
   "metadata": {
    "colab": {},
    "colab_type": "code",
    "id": "RgEbDc4a5azF"
   },
   "outputs": [],
   "source": [
    "from sklearn.ensemble import VotingClassifier\n",
    "clf1 = logreg_clf\n",
    "clf2 = rf_clf\n",
    "ensemble_model = VotingClassifier(estimators = [('lr' , clf1) , ('rf' , clf2)], voting ='soft')"
   ]
  },
  {
   "cell_type": "code",
   "execution_count": null,
   "metadata": {
    "colab": {
     "base_uri": "https://localhost:8080/",
     "height": 238
    },
    "colab_type": "code",
    "id": "4kAx6PS28Yu5",
    "outputId": "38232e02-db48-45d5-b5a3-e0a91d30e25d"
   },
   "outputs": [
    {
     "name": "stdout",
     "output_type": "stream",
     "text": [
      "[[4688  304]\n",
      " [ 385 1678]]\n",
      "              precision    recall  f1-score   support\n",
      "\n",
      "           0       0.92      0.94      0.93      4992\n",
      "           1       0.85      0.81      0.83      2063\n",
      "\n",
      "   micro avg       0.90      0.90      0.90      7055\n",
      "   macro avg       0.89      0.88      0.88      7055\n",
      "weighted avg       0.90      0.90      0.90      7055\n",
      "\n",
      "The accuracy for Model is: 0.9023387668320341\n",
      "0.9488658343897983\n"
     ]
    }
   ],
   "source": [
    "get_score(ensemble_model)"
   ]
  },
  {
   "cell_type": "markdown",
   "metadata": {
    "colab_type": "text",
    "id": "_gg20qL9ijuN"
   },
   "source": [
    "### As can see the results are similar and there isn't any significant advantage, so we will stick with our Logistic Regression model and implement that as using ensemble models increases the time as well as computational cost and it's not adding any significant improvement on our dataset."
   ]
  },
  {
   "cell_type": "code",
   "execution_count": null,
   "metadata": {
    "colab": {},
    "colab_type": "code",
    "id": "QMq-rlbOquOQ"
   },
   "outputs": [],
   "source": []
  }
 ],
 "metadata": {
  "accelerator": "GPU",
  "colab": {
   "collapsed_sections": [],
   "name": "ADR.ipynb",
   "provenance": [],
   "toc_visible": true,
   "version": "0.3.2"
  },
  "kernelspec": {
   "display_name": "Python 3",
   "language": "python",
   "name": "python3"
  },
  "language_info": {
   "codemirror_mode": {
    "name": "ipython",
    "version": 3
   },
   "file_extension": ".py",
   "mimetype": "text/x-python",
   "name": "python",
   "nbconvert_exporter": "python",
   "pygments_lexer": "ipython3",
   "version": "3.6.4"
  }
 },
 "nbformat": 4,
 "nbformat_minor": 2
}
